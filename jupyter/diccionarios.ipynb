{
 "cells": [
  {
   "cell_type": "markdown",
   "metadata": {},
   "source": [
    "# Uso de Diccionarios"
   ]
  },
  {
   "cell_type": "markdown",
   "metadata": {},
   "source": [
    "#### definir diccionario."
   ]
  },
  {
   "cell_type": "code",
   "execution_count": 25,
   "metadata": {},
   "outputs": [
    {
     "name": "stdout",
     "output_type": "stream",
     "text": [
      "{'triangle': 3, 'square': 4, 'pentagon': 5}\n"
     ]
    }
   ],
   "source": [
    "dict = {\"triangle\": 3, \"square\": 4, \"pentagon\": 5}\n",
    "print(dict) # {'triangle': 3, 'square': 4, 'pentagon': 5} \n",
    "# imprime el diccionario a completo (claves y valores) en una sola línea de código (sin saltos de línea) "
   ]
  },
  {
   "cell_type": "code",
   "execution_count": 26,
   "metadata": {},
   "outputs": [
    {
     "name": "stdout",
     "output_type": "stream",
     "text": [
      "3\n"
     ]
    }
   ],
   "source": [
    "print(dict[\"triangle\"]) # 3 \n",
    "# imprime el valor asociado a la clave \"triangle\" en una sola línea de código (sin saltos de línea)\n"
   ]
  },
  {
   "cell_type": "markdown",
   "metadata": {},
   "source": [
    "#### Iterar"
   ]
  },
  {
   "cell_type": "code",
   "execution_count": 22,
   "metadata": {},
   "outputs": [
    {
     "name": "stdout",
     "output_type": "stream",
     "text": [
      "triangle\n",
      "square\n",
      "pentagon\n"
     ]
    }
   ],
   "source": [
    "for i in dict: # recorre las claves del diccionario\n",
    "    print(i) # imprime las claves del diccionario en una línea de código (sin saltos de línea)"
   ]
  },
  {
   "cell_type": "code",
   "execution_count": 23,
   "metadata": {},
   "outputs": [
    {
     "name": "stdout",
     "output_type": "stream",
     "text": [
      "3\n",
      "4\n",
      "5\n"
     ]
    }
   ],
   "source": [
    "for i in dict: # recorre las claves del diccionario\n",
    "    print(dict[i]) # imprime los valores del diccionario en una línea de código (sin saltos de línea)\n"
   ]
  },
  {
   "cell_type": "code",
   "execution_count": 24,
   "metadata": {},
   "outputs": [
    {
     "name": "stdout",
     "output_type": "stream",
     "text": [
      "triangle 3\n",
      "square 4\n",
      "pentagon 5\n"
     ]
    }
   ],
   "source": [
    "for x, y in dict.items(): # recorre las claves y valores del diccionario\n",
    "    print(x, y) # imprime las claves y valores del diccionario en una línea de código (sin saltos de línea)"
   ]
  },
  {
   "cell_type": "markdown",
   "metadata": {},
   "source": [
    "#### Anidar diccionario.\n",
    "> Los diccionarios en Python pueden contener uno dentro de otro. Podemos ver como los valores anidado uno y dos del diccionario d contienen a su vez otro diccionario."
   ]
  },
  {
   "cell_type": "code",
   "execution_count": 30,
   "metadata": {},
   "outputs": [
    {
     "name": "stdout",
     "output_type": "stream",
     "text": [
      "{'anidado1': {'a': 1, 'b': 2}, 'anidado2': {'a': 1, 'b': 2}}\n"
     ]
    }
   ],
   "source": [
    "anidado1 = {\"a\": 1, \"b\": 2}\n",
    "anidado2 = {\"a\": 1, \"b\": 2}\n",
    "\n",
    "dict_1 = {\n",
    "  \"anidado1\" : anidado1,\n",
    "  \"anidado2\" : anidado2\n",
    "}\n",
    "\n",
    "print(dict_1)\n",
    "#{'anidado1': {'a': 1, 'b': 2}, 'anidado2': {'a': 1, 'b': 2}}"
   ]
  },
  {
   "cell_type": "markdown",
   "metadata": {},
   "source": [
    "#### Métodos diccionarios Python"
   ]
  },
  {
   "cell_type": "code",
   "execution_count": 31,
   "metadata": {},
   "outputs": [
    {
     "name": "stdout",
     "output_type": "stream",
     "text": [
      "{}\n"
     ]
    }
   ],
   "source": [
    "# clear()\n",
    "\n",
    "# El método clear() elimina todo el contenido del diccionario.\n",
    "dict_2 = {'a': 1, 'b': 2}\n",
    "dict_2.clear()\n",
    "print(dict_2) #{}  # El diccionario está vacío"
   ]
  },
  {
   "cell_type": "code",
   "execution_count": 33,
   "metadata": {},
   "outputs": [
    {
     "name": "stdout",
     "output_type": "stream",
     "text": [
      "None\n",
      "No existe\n"
     ]
    }
   ],
   "source": [
    "# .get(key, default) \n",
    "\n",
    "# El método get() devuelve el valor de la clave especificada.\n",
    "#  default es el valor que se devuelve si la clave no existe, si no se especifica, el valor predeterminado es None.\n",
    "\n",
    "dict_3 = {'a': 1, 'b': 2}\n",
    "print( dict_3.get('z') ) # None\n",
    "print( dict_3.get('z', 'No existe') ) # No existe"
   ]
  },
  {
   "cell_type": "code",
   "execution_count": 41,
   "metadata": {},
   "outputs": [
    {
     "name": "stdout",
     "output_type": "stream",
     "text": [
      "dict_items([('a', 1), ('b', 2), ('c', 3)])\n",
      "[('a', 1), ('b', 2), ('c', 3)]\n",
      "('a', 1)\n"
     ]
    }
   ],
   "source": [
    "# .items()\n",
    "\n",
    "# El método items() devuelve una lista con los keys y values del diccionario.\n",
    "# Si se convierte en list se puede indexar como si de una lista normal se tratase, \n",
    "# siendo los primeros elementos las key y los segundos los value.\n",
    "\n",
    "d = {'a': 1, 'b': 2}\n",
    "it = d.items()\n",
    "\n",
    "print(it)            # dict_items([('a', 1), ('b', 2))\n",
    "print(list(it))      # [('a', 1), ('b', 2)]\n",
    "print(list(it)[0])   # ('a', 1) # primer elemento"
   ]
  },
  {
   "cell_type": "code",
   "execution_count": 42,
   "metadata": {},
   "outputs": [
    {
     "name": "stdout",
     "output_type": "stream",
     "text": [
      "dict_keys(['a', 'b'])\n"
     ]
    }
   ],
   "source": [
    "# .keys()\n",
    "\n",
    "# El método keys() devuelve una lista con las claves del diccionario.\n",
    "d = {'a': 1, 'b': 2}\n",
    "\n",
    "print(d.keys())    # dict_keys(['a', 'b'])\n"
   ]
  },
  {
   "cell_type": "code",
   "execution_count": 43,
   "metadata": {},
   "outputs": [
    {
     "name": "stdout",
     "output_type": "stream",
     "text": [
      "dict_values([1, 2])\n"
     ]
    }
   ],
   "source": [
    "#values()\n",
    "\n",
    "# El método values() devuelve una lista con los valores del diccionario.\n",
    "d = {'a': 1, 'b': 2}\n",
    "\n",
    "print(d.values())    # dict_values([1, 2])"
   ]
  },
  {
   "cell_type": "code",
   "execution_count": 60,
   "metadata": {},
   "outputs": [
    {
     "name": "stdout",
     "output_type": "stream",
     "text": [
      "{'b': 2}\n",
      "no existe\n"
     ]
    }
   ],
   "source": [
    "# .pop(key, default)\n",
    "\n",
    "# El método pop() busca y elimina la key que se pasa como parámetro y devuelve su valor asociado\n",
    "# Daría un error si se intenta eliminar una key que no existe.\n",
    "# Si se especifica un valor por defecto, este se devolverá en caso de que la key no exista.\n",
    "d = {'a': 1, 'b': 2}\n",
    "d.pop('a')\n",
    "\n",
    "print(d) #{'b': 2}} #{'b': 2} # El elemento con la clave 'a' ha sido eliminado\n",
    "\n",
    "print(d.pop('c', \"no existe\")) # no existe, en caso de no poner default, daría un error"
   ]
  },
  {
   "cell_type": "code",
   "execution_count": 62,
   "metadata": {},
   "outputs": [
    {
     "name": "stdout",
     "output_type": "stream",
     "text": [
      "('c', 3)\n",
      "{'a': 1, 'b': 2}\n"
     ]
    }
   ],
   "source": [
    "# .popitem()\n",
    "# El método popitem() elimina el último elemento del diccionario y devuelve una tupla con la clave y el valor eliminados.\n",
    "d1 = {'a': 1, 'b': 2, 'c': 3}\n",
    "print(d1.popitem()) # ('c', 3) # Elimina el último elemento del diccionario\n",
    "print(d1) # {'a': 1, 'b': 2} # El diccionario sin el último elemento\n"
   ]
  },
  {
   "cell_type": "code",
   "execution_count": 63,
   "metadata": {},
   "outputs": [
    {
     "name": "stdout",
     "output_type": "stream",
     "text": [
      "3\n",
      "{'a': 1, 'b': 2, 'c': 3}\n"
     ]
    }
   ],
   "source": [
    "# .setdefault(key, default)\n",
    "# El método setdefault() devuelve el valor de la clave especificada.\n",
    "# Si la clave no existe, se inserta con el valor predeterminado especificado.\n",
    "d2 = {'a': 1, 'b': 2}\n",
    "print(d2.setdefault('c', 3)) # 3 # La clave 'c' no existe, se inserta con el valor 3\n",
    "print(d2) # {'a': 1, 'b': 2, 'c': 3} # El diccionario con la nueva clave 'c'\n"
   ]
  },
  {
   "cell_type": "code",
   "execution_count": 64,
   "metadata": {},
   "outputs": [
    {
     "name": "stdout",
     "output_type": "stream",
     "text": [
      "{'a': 1, 'b': 2, 'c': 3}\n",
      "{'a': 1, 'b': 2, 'c': 3}\n"
     ]
    }
   ],
   "source": [
    "# .update()\n",
    "# El método update() actualiza el diccionario con los elementos de otro diccionario o con una lista de tuplas.\n",
    "d3 = {'a': 1, 'b': 2}\n",
    "d3.update({'c': 3})\n",
    "print(d3) # {'a': 1, 'b': 2, 'c': 3} # Se añade la clave 'c' al diccionario\n",
    "\n",
    "d4 = {'a': 1, 'b': 2}\n",
    "d4.update([('c', 3)])\n",
    "print(d4) # {'a': 1, 'b': 2, 'c': 3} # Se añade la clave 'c' al diccionario\n"
   ]
  },
  {
   "cell_type": "markdown",
   "metadata": {},
   "source": [
    "Código que modifica una colección mientras se itera sobre la misma colección puede ser complejo de hacer bien. Sin embargo, suele ser más directo iterar sobre una copia de la colección o crear una nueva colección"
   ]
  },
  {
   "cell_type": "code",
   "execution_count": 65,
   "metadata": {},
   "outputs": [],
   "source": [
    "# Create a sample collection\n",
    "users = {'Hans': 'active', 'Éléonore': 'inactive', '景太郎': 'active'}\n",
    "\n",
    "# Strategy:  Iterate over a copy\n",
    "for user, status in users.copy().items():\n",
    "    if status == 'inactive':\n",
    "        del users[user]\n",
    "\n",
    "# Strategy:  Create a new collection\n",
    "active_users = {}\n",
    "for user, status in users.items():\n",
    "    if status == 'active':\n",
    "        active_users[user] = status"
   ]
  }
 ],
 "metadata": {
  "kernelspec": {
   "display_name": ".venv",
   "language": "python",
   "name": "python3"
  },
  "language_info": {
   "codemirror_mode": {
    "name": "ipython",
    "version": 3
   },
   "file_extension": ".py",
   "mimetype": "text/x-python",
   "name": "python",
   "nbconvert_exporter": "python",
   "pygments_lexer": "ipython3",
   "version": "3.13.1"
  }
 },
 "nbformat": 4,
 "nbformat_minor": 2
}
