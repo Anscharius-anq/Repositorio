{
 "cells": [
  {
   "cell_type": "markdown",
   "metadata": {},
   "source": [
    "#### **Escapes.** "
   ]
  },
  {
   "cell_type": "markdown",
   "metadata": {},
   "source": [
    "&emsp;*Texto de ejemplo:*"
   ]
  },
  {
   "cell_type": "code",
   "execution_count": 4,
   "metadata": {},
   "outputs": [
    {
     "name": "stdout",
     "output_type": "stream",
     "text": [
      "Lorem ipsum dolor sit amet, consectetur adipiscing elit, sed do eiusmod tempor incididunt ut labore et dolore magna aliqua.\n"
     ]
    }
   ],
   "source": [
    "print(\"Lorem ipsum dolor sit amet, consectetur adipiscing elit, sed do eiusmod tempor incididunt ut labore et dolore magna aliqua.\")"
   ]
  },
  {
   "cell_type": "markdown",
   "metadata": {},
   "source": [
    "___\n",
    "##### 1.&ensp; **/n** salto de pagina"
   ]
  },
  {
   "cell_type": "code",
   "execution_count": 5,
   "metadata": {},
   "outputs": [
    {
     "name": "stdout",
     "output_type": "stream",
     "text": [
      "Lorem ipsum dolor sit amet, \n",
      "consectetur adipiscing elit, \n",
      "sed do eiusmod tempor incididunt ut labore et dolore magna aliqua.\n"
     ]
    }
   ],
   "source": [
    "print(\"Lorem ipsum dolor sit amet, \\nconsectetur adipiscing elit, \\nsed do eiusmod tempor incididunt ut labore et dolore magna aliqua.\")"
   ]
  },
  {
   "cell_type": "markdown",
   "metadata": {},
   "source": [
    "___\n",
    "##### 2. &ensp;**/t** Tabulación"
   ]
  },
  {
   "cell_type": "code",
   "execution_count": 7,
   "metadata": {},
   "outputs": [
    {
     "name": "stdout",
     "output_type": "stream",
     "text": [
      "Lorem ipsum dolor sit amet, \tconsectetur adipiscing elit, sed do eiusmod tempor \tincididunt\t ut labore et dolore magna aliqua.\n"
     ]
    }
   ],
   "source": [
    "print(\"Lorem ipsum dolor sit amet, \\tconsectetur adipiscing elit, sed do eiusmod tempor \\tincididunt\\t ut labore et dolore magna aliqua.\")"
   ]
  },
  {
   "cell_type": "markdown",
   "metadata": {},
   "source": [
    "___\n",
    "##### 3.&ensp;**\\\\** **\\\\** Representa una barra invertida literal (\\\\)."
   ]
  },
  {
   "cell_type": "code",
   "execution_count": 9,
   "metadata": {},
   "outputs": [
    {
     "name": "stdout",
     "output_type": "stream",
     "text": [
      "Lorem \\ipsum dolor \\sit amet, \\consectetur adipiscing elit, \\sed do eiusmod tempor \\incididunt ut labore et dolore magna aliqua.\n",
      "Ruta: C:\\Archivos\\Python\n"
     ]
    }
   ],
   "source": [
    "print(\"Lorem \\\\ipsum dolor \\\\sit amet, \\\\consectetur adipiscing elit, \\\\sed do eiusmod tempor \\\\incididunt ut labore et dolore magna aliqua.\")\n",
    "print(\"Ruta: C:\\\\Archivos\\\\Python\")"
   ]
  },
  {
   "cell_type": "markdown",
   "metadata": {},
   "source": [
    "___\n",
    "##### 4.&ensp;**\\\\'** o **\\\\\"** Introduce apostrofo ( ' ) y  comillas ( \" ) en un string respectivamente."
   ]
  },
  {
   "cell_type": "code",
   "execution_count": 10,
   "metadata": {},
   "outputs": [
    {
     "name": "stdout",
     "output_type": "stream",
     "text": [
      "Esto es un 'escape'\n"
     ]
    }
   ],
   "source": [
    "print('Esto es un \\'escape\\'')"
   ]
  },
  {
   "cell_type": "markdown",
   "metadata": {},
   "source": [
    "___\n",
    "##### 5.&ensp;**\\r**  *carriage return* en muchos casos, mueve el cursor al principio de la línea actual sin avanzar a una nueva línea."
   ]
  },
  {
   "cell_type": "code",
   "execution_count": 11,
   "metadata": {},
   "outputs": [
    {
     "name": "stdout",
     "output_type": "stream",
     "text": [
      "Mundo\n"
     ]
    }
   ],
   "source": [
    "print(\"Hola\\rMundo\")\n",
    "# Salida: Mundo\n",
    "# (Sobrescribe \"Hola\" con \"Mundo\")"
   ]
  }
 ],
 "metadata": {
  "kernelspec": {
   "display_name": ".venv",
   "language": "python",
   "name": "python3"
  },
  "language_info": {
   "codemirror_mode": {
    "name": "ipython",
    "version": 3
   },
   "file_extension": ".py",
   "mimetype": "text/x-python",
   "name": "python",
   "nbconvert_exporter": "python",
   "pygments_lexer": "ipython3",
   "version": "3.13.1"
  }
 },
 "nbformat": 4,
 "nbformat_minor": 2
}
