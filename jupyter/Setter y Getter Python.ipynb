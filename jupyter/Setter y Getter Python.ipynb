{
 "cells": [
  {
   "cell_type": "markdown",
   "metadata": {},
   "source": [
    "#### **Setter y Getter**"
   ]
  },
  {
   "cell_type": "markdown",
   "metadata": {},
   "source": [
    "* público: todos los miembros son públicos en python por defecto\n",
    "* protegido: usado un guión bajo (_) por convención denota que ese miembro no debe ser accedido\n",
    "* privado: usando doble gión bajo (__) de prefijo, python transforma \\_\\_NombreMiembro en \\_NombreClase\\_\\_NombreMiembro, esto lo hace para ocultar tal miembro, de todas formas esta no debe ser accedida ni mucho menos modificarla."
   ]
  },
  {
   "cell_type": "code",
   "execution_count": 1,
   "metadata": {},
   "outputs": [
    {
     "name": "stdout",
     "output_type": "stream",
     "text": [
      "Carlos\n",
      "20\n",
      "1572-1\n"
     ]
    }
   ],
   "source": [
    "class Persona:\n",
    "    def __init__(self, nombre, edad, direccion):\n",
    "        self.nombre = nombre\n",
    "        self._edad = edad\n",
    "        self.__direccion = direccion\n",
    "\n",
    "persona_1 = Persona(\"Carlos\", \"20\", \"1572-1\")\n",
    "\n",
    "print(persona_1.nombre)\n",
    "print(persona_1._edad) # si bien es posible acceder este atributo esto es una mala práctica\n",
    "print(persona_1._Persona__direccion) # esto también es una mala práctica"
   ]
  },
  {
   "cell_type": "markdown",
   "metadata": {},
   "source": [
    "para acceder de manera correcta los miembros \"privados\" se usan métodos que cumplan la función de getter y setter que controlen su el acceso de estos miembros."
   ]
  },
  {
   "cell_type": "code",
   "execution_count": 6,
   "metadata": {},
   "outputs": [
    {
     "name": "stdout",
     "output_type": "stream",
     "text": [
      "1572-1\n",
      "20\n",
      "35\n"
     ]
    }
   ],
   "source": [
    "class Persona:\n",
    "    def __init__(self, nombre, edad, direccion):\n",
    "        self.nombre = nombre\n",
    "        self._edad = edad\n",
    "        self.__direccion = direccion\n",
    "    \n",
    "    # Método Getter\n",
    "    def get_edad(self):\n",
    "        return self._edad\n",
    "    \n",
    "    def get_direccion(self):\n",
    "        return self.__direccion\n",
    "    \n",
    "    # Método Setter\n",
    "    def set_direccion(self, direccion):\n",
    "        self.__direccion = direccion\n",
    "\n",
    "    def set_edad(self, edad):\n",
    "        if edad < 0:\n",
    "            print(\"La edad no puede ser negativa\")\n",
    "        else:\n",
    "            self._edad = edad\n",
    "        \n",
    "    \n",
    "persona_1 = Persona(\"Carlos\", \"20\", \"1572-1\")\n",
    "\n",
    "print(persona_1.get_direccion())\n",
    "\n",
    "print(persona_1.get_edad())\n",
    "persona_1.set_edad(35)\n",
    "print(persona_1.get_edad())\n",
    "\n",
    "\n"
   ]
  },
  {
   "cell_type": "markdown",
   "metadata": {},
   "source": [
    "Python permite un enfoque más limpio para definir getter y setter usando el decorador *@property*"
   ]
  },
  {
   "cell_type": "code",
   "execution_count": 8,
   "metadata": {},
   "outputs": [
    {
     "name": "stdout",
     "output_type": "stream",
     "text": [
      "Juan\n",
      "30\n",
      "Eliminando nombre...\n"
     ]
    },
    {
     "ename": "AttributeError",
     "evalue": "'Persona' object has no attribute '_Persona__nombre'",
     "output_type": "error",
     "traceback": [
      "\u001b[1;31m---------------------------------------------------------------------------\u001b[0m",
      "\u001b[1;31mAttributeError\u001b[0m                            Traceback (most recent call last)",
      "Cell \u001b[1;32mIn[8], line 36\u001b[0m\n\u001b[0;32m     33\u001b[0m \u001b[38;5;28mprint\u001b[39m(persona_1\u001b[38;5;241m.\u001b[39medad)\n\u001b[0;32m     35\u001b[0m \u001b[38;5;28;01mdel\u001b[39;00m persona_1\u001b[38;5;241m.\u001b[39mnombre\n\u001b[1;32m---> 36\u001b[0m \u001b[38;5;28mprint\u001b[39m(\u001b[43mpersona_1\u001b[49m\u001b[38;5;241;43m.\u001b[39;49m\u001b[43mnombre\u001b[49m)\n",
      "Cell \u001b[1;32mIn[8], line 8\u001b[0m, in \u001b[0;36mPersona.nombre\u001b[1;34m(self)\u001b[0m\n\u001b[0;32m      6\u001b[0m \u001b[38;5;129m@property\u001b[39m \u001b[38;5;66;03m# hace que llamar el atributo nombre como si fuera un parámetro y no un método\u001b[39;00m\n\u001b[0;32m      7\u001b[0m \u001b[38;5;28;01mdef\u001b[39;00m \u001b[38;5;21mnombre\u001b[39m(\u001b[38;5;28mself\u001b[39m):\n\u001b[1;32m----> 8\u001b[0m     \u001b[38;5;28;01mreturn\u001b[39;00m \u001b[38;5;28;43mself\u001b[39;49m\u001b[38;5;241;43m.\u001b[39;49m\u001b[43m__nombre\u001b[49m\n",
      "\u001b[1;31mAttributeError\u001b[0m: 'Persona' object has no attribute '_Persona__nombre'"
     ]
    }
   ],
   "source": [
    "class Persona:\n",
    "    def __init__(self, nombre, edad):\n",
    "        self.__nombre = nombre\n",
    "        self.__edad = edad\n",
    "    \n",
    "    @property # hace que llamar el atributo nombre como si fuera un parámetro y no un método\n",
    "    def nombre(self):\n",
    "        return self.__nombre\n",
    "    \n",
    "    @nombre.setter\n",
    "    def nombre(self, nombre):\n",
    "        self.__nombre = nombre\n",
    "\n",
    "    @property \n",
    "    def edad(self):\n",
    "        return self.__edad\n",
    "    \n",
    "    @edad.setter\n",
    "    def edad(self, edad):\n",
    "        if edad < 0:\n",
    "            print(\"La edad no puede ser negativa\")\n",
    "        else:\n",
    "            self.__edad = edad\n",
    "\n",
    "    @nombre.deleter\n",
    "    def nombre(self):\n",
    "        print(\"Eliminando nombre...\")\n",
    "        del self.__nombre\n",
    "\n",
    "persona_1 = Persona(\"Juan\", 30)\n",
    "\n",
    "print(persona_1.nombre) # en vez de llamar como método como anteriormente aqui lo llamamos como parametro.\n",
    "print(persona_1.edad)\n",
    "\n",
    "del persona_1.nombre\n"
   ]
  },
  {
   "cell_type": "code",
   "execution_count": 5,
   "metadata": {},
   "outputs": [
    {
     "name": "stdout",
     "output_type": "stream",
     "text": [
      "hola\n"
     ]
    }
   ],
   "source": [
    "class Libro:\n",
    "    def __init__(self, nombre):\n",
    "        self.nombre = nombre\n",
    "    \n",
    "    def __str__(self):\n",
    "        return (\"hola\")\n",
    "\n",
    "libro_1 = Libro(\"Lost\")\n",
    "\n",
    "print(libro_1)"
   ]
  }
 ],
 "metadata": {
  "kernelspec": {
   "display_name": "Python 3",
   "language": "python",
   "name": "python3"
  },
  "language_info": {
   "codemirror_mode": {
    "name": "ipython",
    "version": 3
   },
   "file_extension": ".py",
   "mimetype": "text/x-python",
   "name": "python",
   "nbconvert_exporter": "python",
   "pygments_lexer": "ipython3",
   "version": "3.13.1"
  }
 },
 "nbformat": 4,
 "nbformat_minor": 2
}
