{
 "cells": [
  {
   "cell_type": "markdown",
   "metadata": {},
   "source": [
    "### Extender la funcionalidad de una función  con decoradores en Python\n",
    "\n",
    "\n",
    "\n"
   ]
  },
  {
   "cell_type": "markdown",
   "metadata": {},
   "source": [
    "**1. Función de decorador con anidación**"
   ]
  },
  {
   "cell_type": "markdown",
   "metadata": {},
   "source": [
    "La primera forma de extender la funcionalidad de una función es usando un decorador con anidación. A continuación, definimos un decorador que agrega funcionalidad antes y después de la ejecución de la función original.\n",
    "\n"
   ]
  },
  {
   "cell_type": "code",
   "execution_count": 1,
   "metadata": {},
   "outputs": [
    {
     "name": "stdout",
     "output_type": "stream",
     "text": [
      "Antes de la llamada a la función\n",
      "Soy la función que debe ser decorada\n",
      "Después de la llamada a la función\n"
     ]
    }
   ],
   "source": [
    "# Definimos el decorador que añadirá funcionalidad antes y después de ejecutar la función original\n",
    "def decorador_con_envoltura(funcion_original):\n",
    "    def envoltura():\n",
    "        print(\"Antes de la llamada a la función\")\n",
    "        funcion_original()  # Llamada a la función original\n",
    "        print(\"Después de la llamada a la función\")\n",
    "    return envoltura\n",
    "\n",
    "# Ahora, definimos una función simple que será decorada por el decorador\n",
    "def funcion_basica():\n",
    "    print(\"Soy la función que debe ser decorada\")\n",
    "\n",
    "# Decoramos la función utilizando el decorador manualmente\n",
    "funcion_basica = decorador_con_envoltura(funcion_basica)\n",
    "\n",
    "# Finalmente, ejecutamos la función decorada\n",
    "funcion_basica()\n"
   ]
  },
  {
   "cell_type": "code",
   "execution_count": 2,
   "metadata": {},
   "outputs": [
    {
     "name": "stdout",
     "output_type": "stream",
     "text": [
      "Antes de la llamada a la función\n",
      "Soy la función que debe ser decorada\n",
      "Después de la llamada a la función\n"
     ]
    }
   ],
   "source": [
    "def decorador(funcion_original):\n",
    "    def envoltura():\n",
    "        print(\"Antes de la llamada a la función\")\n",
    "        funcion_original()  # Llamada a la función original\n",
    "        print(\"Después de la llamada a la función\")\n",
    "    return envoltura\n",
    "\n",
    "# Aquí utilizamos la sintaxis @ para decorar la función automáticamente\n",
    "@decorador  # @decorador es igual a:  nombre_funcion = decorador(nombre_funcion)\n",
    "def funcion_basica():\n",
    "    print(\"Soy la función que debe ser decorada\")\n",
    "\n",
    "# Finalmente, ejecutamos la función decorada\n",
    "funcion_basica()\n"
   ]
  },
  {
   "cell_type": "code",
   "execution_count": 4,
   "metadata": {},
   "outputs": [
    {
     "name": "stdout",
     "output_type": "stream",
     "text": [
      "Iniciando la verificación...\n",
      "7 es un número impar.\n",
      "Verificación completa.\n"
     ]
    }
   ],
   "source": [
    "# Decorador que imprime un mensaje antes y después de ejecutar la función\n",
    "def mensaje_decorador(func):\n",
    "    def envoltura(n):\n",
    "        print(\"Iniciando la verificación...\")\n",
    "        func(n)  # Llamamos a la función original\n",
    "        print(\"Verificación completa.\")\n",
    "    return envoltura  # Devolvemos la función envoltura\n",
    "\n",
    "# Función que verifica si un número es par o impar\n",
    "@mensaje_decorador  # Aplicamos el decorador\n",
    "def verificar_par_o_impar(n):\n",
    "    if n % 2 == 0:\n",
    "        print(f\"{n} es un número par.\")\n",
    "    else:\n",
    "        print(f\"{n} es un número impar.\")\n",
    "\n",
    "# Ejecutamos la función decorada\n",
    "verificar_par_o_impar(7)\n"
   ]
  }
 ],
 "metadata": {
  "kernelspec": {
   "display_name": ".venv",
   "language": "python",
   "name": "python3"
  },
  "language_info": {
   "codemirror_mode": {
    "name": "ipython",
    "version": 3
   },
   "file_extension": ".py",
   "mimetype": "text/x-python",
   "name": "python",
   "nbconvert_exporter": "python",
   "pygments_lexer": "ipython3",
   "version": "3.13.1"
  }
 },
 "nbformat": 4,
 "nbformat_minor": 2
}
