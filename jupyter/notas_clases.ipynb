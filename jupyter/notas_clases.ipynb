{
 "cells": [
  {
   "cell_type": "markdown",
   "metadata": {},
   "source": [
    "#### **Clases** "
   ]
  },
  {
   "cell_type": "markdown",
   "metadata": {},
   "source": [
    "*Aqui escrbiré unos apuntes para aprender la programacion orientadaa a objetos <b>OOP</b>. aqui repasaré la sintaxis de una clase, y conceptos como encapsulamientos, herencia de clase, etc.*\n",
    "<br>\n",
    "<br>\n",
    "\n",
    "&nbsp;&nbsp;&nbsp;&nbsp; En la programación orientada a objetos, un objeto es una instancia de una clase. Es decir, un objeto es una entidad que se crea a partir de la plantilla definida por una clase. Cada vez que instanciamos una clase, estamos creando un nuevo objeto con su propio conjunto de atributos y métodos.\n",
    "\n",
    "* ***Definición clave***\n",
    "\n",
    "    * **Clase:** Es un plano o plantilla que define los atributos y métodos comunes para los objetos que serán creados a partir de ella.\n",
    "   \n",
    "    * **Objeto (Instancia):** Es una instancia específica de una clase, con atributos y comportamientos definidos por la clase, pero con valores particulares para sus atributos.\n",
    "    \n",
    "---"
   ]
  },
  {
   "cell_type": "markdown",
   "metadata": {},
   "source": [
    "\n",
    "####   ***1. Sintaxis de una clase***\n"
   ]
  },
  {
   "cell_type": "markdown",
   "metadata": {},
   "source": [
    "&nbsp;&nbsp;&nbsp;&nbsp; Aquí se muestra la sintaxis basica para escribir una clase. Para definirla se escribe **class NombreClase():**\n",
    "\n",
    "```python\n",
    "\n",
    "        class Coche():  # Definición de la clase\n",
    "            '''Esta clase define el estado y comportamiento de un coche'''  # Docstring\n",
    "\n",
    "            ruedas = 4  # Atributo de clase (valor compartido por todas las instancias)\n",
    "\n",
    "            def __init__(self, color, aceleracion):  # Método constructor\n",
    "                # Atributos de instancia (valores únicos para cada objeto instanciado)\n",
    "                self.color = color\n",
    "                self.aceleracion = aceleracion\n",
    "                self.velocidad = 0\n",
    "\n",
    "            # Métodos de la clase\n",
    "            def acelera(self):\n",
    "                \"\"\"Incrementa la velocidad del coche\"\"\"\n",
    "                self.velocidad += self.aceleracion\n",
    "\n",
    "            def frena(self):\n",
    "                \"\"\"Reduce la velocidad del coche hasta 0 como mínimo\"\"\"\n",
    "                v = self.velocidad - self.aceleracion\n",
    "                self.velocidad = max(v, 0)\n",
    "```\n",
    "\n",
    "* **class**  es la palabra reservada utilizada para crear una clase.\n",
    "* En este ejemplo, usamos **Coche** como identificador (nombre). Por convención, los nombres de las clases utilizan **mayúsculas iniciales** en las palabras y camel case para nombres compuestos o acrónimos.\n",
    "* Los paréntesis **()** son opcionales, excepto cuando la clase hereda de otra clase.de clase. \n",
    "* **docstring**  Es una cadena de texto utilizada para documentar la clase, explicando su funcionalidad.\n",
    "* **Atributos** son variables o datos definidos dentro de la clase.\n",
    "* **Métodos** son funciones definidas dentro de una clase que operan sobre sus atributos y realizan acciones.<br>\n",
    "\n",
    "---"
   ]
  },
  {
   "cell_type": "markdown",
   "metadata": {},
   "source": [
    "\n",
    "####  ***2. Objetos***"
   ]
  },
  {
   "cell_type": "markdown",
   "metadata": {},
   "source": [
    "&emsp;&emsp; Los objetos son elementos creados a partir de una clase, estos tienen todos los atributos y metodos de la clase a la que pertenecen Además, los objetos pueden tener atributos propios que no están definidos directamente en la clase. los objetos son creados comumente a traves de variables que nos permita manejar el objeto con un identificador asignado.<p>\n",
    "\n",
    "* ***Características de los objetos***\n",
    "    * Los objetos son instancias de una clase\n",
    "    * Permiten manejar datos y comportamientos definidos en la clase.\n",
    "    * Se crean comúnmente asignándolos a una variable, que actúa como identificador\n",
    "\n",
    "* ***Cómo crear un objeto***\n",
    "    * La sintaxis básica para crear un objeto es:\n",
    "\n",
    "        * **variable = Clase()**\n",
    "\n",
    "    * En el ejemplo de abajo:\n",
    "\n",
    "        * **obj = NombreClase()**"
   ]
  },
  {
   "cell_type": "markdown",
   "metadata": {},
   "source": [
    "***Ejemplo prático*** "
   ]
  },
  {
   "cell_type": "code",
   "execution_count": 22,
   "metadata": {},
   "outputs": [
    {
     "name": "stdout",
     "output_type": "stream",
     "text": [
      "Método llamado con el objeto.\n"
     ]
    }
   ],
   "source": [
    "# Declaración de clase\n",
    "class NombreClase:\n",
    "\n",
    "    # Atributos de clase\n",
    "    atributo_1 = \"valor 1\"\n",
    "    atributo_2 = \"valor 2\"\n",
    "\n",
    "    # Métodos de clase\n",
    "    def metodo_1(self):\n",
    "        print(\"Método llamado con el objeto.\")\n",
    "\n",
    "# Objeto creado a partir de la clase\n",
    "obj = NombreClase()\n",
    "\n",
    "# Llamado del método. Recordar usar paréntesis, ya que un método es una función.\n",
    "obj.metodo_1()  # Salida: Método llamado con el objeto."
   ]
  },
  {
   "cell_type": "markdown",
   "metadata": {},
   "source": [
    "&nbsp;&nbsp;&nbsp;&nbsp; ***Estados y Comportamientos de los Objetos***\n",
    "\n",
    "* Los objetos pueden poseer tanto estados como comportamientos, que se reflejan a través de sus atributos y métodos.\n",
    "\n",
    "\n",
    "    * **El estado** de un objeto está representado por sus atributos, que son los datos que lo caracterizan. Por ejemplo, un objeto que represente un usuario podría tener los siguientes atributos: \n",
    "        * nombre\n",
    "        * apellido\n",
    "        * edad\n",
    "        * teléfono\n",
    "        * dirección\n",
    "        * etc\n",
    "\n",
    "    * **Los comportamientos** El comportamiento de un objeto está representado por sus métodos, que son las acciones que puede realizar. Por ejemplo:\n",
    "        * caminar()\n",
    "        * correr()\n",
    "        * saltar()\n",
    "        * comer().\n",
    "        * etc.\n",
    "    * Otro  ejemplo en una aplicacion web los usarios pueden tener comportamiento como:\n",
    "        * consultar_datos()\n",
    "        * cambiar_contraseña()\n",
    "        * inicia_sesion()\n",
    "        * cierra_sesion()\n",
    "        * eliminar_cuenta()"
   ]
  },
  {
   "cell_type": "markdown",
   "metadata": {},
   "source": [
    "***Ejemplo práctico: Jugador con estado y comportamiento.***\n",
    "<br>*se crea dos objetos de tipo Jugador*"
   ]
  },
  {
   "cell_type": "code",
   "execution_count": 23,
   "metadata": {},
   "outputs": [
    {
     "name": "stdout",
     "output_type": "stream",
     "text": [
      "No puedes entrar.\n",
      "Puedes entrar.\n"
     ]
    }
   ],
   "source": [
    "class Jugador():\n",
    "    # Atributos de clase\n",
    "    edad = None\n",
    "\n",
    "    # Método\n",
    "    def permitir_acceso(self):\n",
    "        print(\"Puedes entrar.\")\n",
    "\n",
    "    def denegar_acceso(self):\n",
    "        print(\"No puedes entrar.\")\n",
    "\n",
    "    def comprobar_edad(self):\n",
    "        if self.edad < 18:\n",
    "            self.denegar_acceso()\n",
    "        else: \n",
    "            self.permitir_acceso()\n",
    "\n",
    "# Instanciamos dos objetos de tipo Jugador\n",
    "jugador1 = Jugador()\n",
    "jugador2 = Jugador()\n",
    "# se modifica el atriburo edad (None) para cada objeto y no de la clase\n",
    "jugador1.edad = 15\n",
    "jugador2.edad = 60\n",
    "\n",
    "# Acceder un método\n",
    "jugador1.comprobar_edad() # No puedes entrar.\n",
    "jugador2.comprobar_edad() # Puedes entrar."
   ]
  },
  {
   "cell_type": "markdown",
   "metadata": {},
   "source": [
    "\n",
    "\n",
    "&nbsp;&nbsp;&nbsp;&nbsp; Aunque todos los objetos comparten los métodos y atributos de clase, cada uno puede mantener su propio estado (atributos únicos).\n",
    "\n",
    "* ***Atributos de instancia:*** Cada objeto puede tener valores diferentes para los atributos. En el ejemplo, el atributo edad fue modificado de manera independiente para jugador1 y jugador2.\n",
    "\n",
    "* **Métodos:** Los métodos definen las acciones que los objetos pueden realizar. En este caso, comprobar_edad() decide si el jugador puede entrar basándose en su edad.\n"
   ]
  },
  {
   "cell_type": "markdown",
   "metadata": {},
   "source": [
    "\n",
    "#### ***3. Acceso a atributos y métodos***"
   ]
  },
  {
   "cell_type": "markdown",
   "metadata": {},
   "source": [
    "* **Instanciación de objetos:** Los objetos se crean en tiempo de ejecución y se almacenan en la memoria RAM. Cada objeto tiene una dirección de memoria única que se asocia con él durante la ejecución.\n",
    "\n",
    "* **Acceso a atributos:** Los atributos de los objetos se acceden mediante la sintaxis **objeto.atributo**. Se pueden modificar directamente o crear nuevos atributos específicos para cada objeto.\n",
    "\n",
    "* **Precaución con atributos fuera de la clase:** Aunque Python permite crear atributos fuera de la clase, esto puede prestarse a confusiones que provocarian errores, especialmente si se manejan múltiples objetos. Es recomendable definir todos los atributos dentro de la clase para evitar inconsistencias."
   ]
  },
  {
   "cell_type": "code",
   "execution_count": 21,
   "metadata": {},
   "outputs": [
    {
     "name": "stdout",
     "output_type": "stream",
     "text": [
      "<__main__.Vehiculo object at 0x000001E755FBDA90>\n",
      "<__main__.Vehiculo object at 0x000001E756144A50>\n",
      "4\n",
      "4\n",
      "None\n",
      "Negro\n",
      "161\n"
     ]
    }
   ],
   "source": [
    "class Vehiculo:\n",
    "    color = None \n",
    "    longitud_metros = None\n",
    "    ruedas = 4\n",
    "\n",
    "    def arrancar(self):\n",
    "        print(\"El motor ha arrancado\")\n",
    "\n",
    "    def detener(self):\n",
    "        print(\"El motor está detenido\")\n",
    "\n",
    "\n",
    "# Se instancia dos objetos de tipo Vehiculo\n",
    "objeto_vehiculo_1 = Vehiculo()\n",
    "objeto_vehiculo_2 = Vehiculo()\n",
    "\n",
    "# Se crea los objetos\n",
    "print(objeto_vehiculo_1)  # <__main__.Vehiculo object at 0x000001E755FBFE00>\n",
    "print(objeto_vehiculo_2)  # <__main__.Vehiculo object at 0x000001E755F9FD90>\n",
    "\n",
    "# Acceder a los atributos de un objeto. Se indica: nombredelobjeto.atributo\n",
    "print(objeto_vehiculo_1.ruedas)  # 4\n",
    "\n",
    "# Almacenar externamente valores de los objetos\n",
    "rueda_vehiculo = objeto_vehiculo_1.ruedas  # Se almacena el atributo rueda en una variable\n",
    "print(rueda_vehiculo)  # 4\n",
    "\n",
    "# Reasignar valores a los atributos de los objetos\n",
    "print(objeto_vehiculo_1.color)  # None\n",
    "objeto_vehiculo_1.color = \"Negro\"  # Reasignación de valor del atributo para este objeto\n",
    "print(objeto_vehiculo_1.color)  # Negro\n",
    "\n",
    "# Crear atributos para el objeto inexistente en la clase\n",
    "objeto_vehiculo_1.velocidad_maxima = 161  # Atributo creado para este objeto\n",
    "print(objeto_vehiculo_1.velocidad_maxima)  # 161\n"
   ]
  },
  {
   "cell_type": "markdown",
   "metadata": {},
   "source": [
    "* La salida **print(objeto_vehiculo_1)** de un objeto en Python da un resultado como **<\\_\\_main\\_\\_.Vehiculo object at 0x000001E755FBFE00>**, este tiene el siguiente significado:\n",
    "\n",
    "    * **\\_\\_main\\_\\_** Este es el nombre del módulo donde se ejecuta el código. Si el código se ejecuta directamente desde un archivo *(por ejemplo, python archivo.py)*, **\\_\\_main\\_\\_** es el nombre del módulo principal.\n",
    "\n",
    "    * **Vehiculo** Es el nombre de la clase del objeto que se imprime. En este caso, es una instancia de la clase **Vehiculo**.\n",
    "\n",
    "    * **object** Es un término genérico que indica que lo que se está imprimiendo es un objeto.\n",
    "\n",
    "    * **at 0x000001E755FBFE00** Esta es la dirección de memoria donde está almacenado el objeto en la memoria RAM. Cada vez que se crea un objeto, Python le asigna una ubicación en la memoria y esa dirección es única para cada objeto en particular. La dirección 0x000001E755FBFE00 es una representación hexadecimal de esa ubicación en la memoria. Python lo imprime para indicar dónde está guardado el objeto.<br>\n",
    "\n",
    "---\n"
   ]
  },
  {
   "cell_type": "markdown",
   "metadata": {},
   "source": [
    "\n",
    "#### **4. *El método \\_\\_init\\_\\_   y el parámetro especial self.***"
   ]
  },
  {
   "cell_type": "markdown",
   "metadata": {},
   "source": [
    "#####   **4.1. *Método \\_\\_init\\_\\_***"
   ]
  },
  {
   "cell_type": "markdown",
   "metadata": {},
   "source": [
    "\n",
    "* **El método \\_\\_init\\_\\_** es un método especial que actúa como el constructor de una clase. Su principal propósito es dar un estado inicial al objeto esto permite que tenga sus propios valores de atributos en el momento de instanciar (crear) el objeto.\n",
    "\n",
    "* No necesita ser llamado explcitamente. Pues el metodo **\\_\\_init\\_\\_** se invoca automaticamente por el interprete de python cuando se crea una nueva instacia de clase, es decir, en el tiempo de ejecución. \n",
    "\n",
    "    * Como ejemplo se crea de abajo una clase sin usar el metodo constructor **\\_\\_init\\_\\_**:"
   ]
  },
  {
   "cell_type": "markdown",
   "metadata": {},
   "source": [
    "***ejemplo sin usar el método \\_\\_init\\_\\_.***"
   ]
  },
  {
   "cell_type": "code",
   "execution_count": null,
   "metadata": {},
   "outputs": [],
   "source": [
    "class Usuario:\n",
    "# atributos \n",
    "    nombre = \"Sin Nombre\"\n",
    "    apellido = \"Sin apellido\"\n",
    "    edad = 0 \n",
    "    direccion = \"Sin direccion\"\n",
    "    telefono = \"Sin telefóno\"\n",
    "\n",
    "    # metrodos\n",
    "    def iniciar_sesion(self):\n",
    "        print(\"El usuario ha iniciado sesión\")\n",
    "    def cerrar_sesion(self):\n",
    "        print(\"El usuario ha cerrado sesión\")\n",
    "    def cambiar_nombre_perfil(self):\n",
    "        print(\"SE cambió el nombre\")\n",
    "\n",
    "# instanciación\n",
    "usuario_1 = Usuario()\n",
    "# inicializacion de datos \n",
    "usuario_1.nombre = \"Pedro\"\n",
    "usuario_1.apellidos = \" Fernandez\"\n",
    "usuario_1.edad = 32\n",
    "usuario_1.direccion = \"C/program/carpeta_x\"\n",
    "usuario_1.telefono = \"123456\""
   ]
  },
  {
   "cell_type": "markdown",
   "metadata": {},
   "source": [
    "* Evidentemente, en el ejemplo anterior, crear varios objetos de la clase **Usuario** llevaría demasiadas líneas de código. Para optimizar este proceso de construcción inicial de los objetos, se utiliza el método **\\_\\_init\\_\\_**, que resulta mucho más sencillo y práctico. Sin embargo, antes de profundizar en su uso, es importante diferenciar entre los **atributos de clase** y los **atributos de instancia**\n",
    "\n",
    "    * **Los atributos de clase:** son los los atributos que hemos creados hasta ahora, están sueltos en el cuerpo de la clase. Estos atributos comparten un mismo valor entre todas las instancias de la clase, salvo que se sobrescriban en una linea específica que la modifique. en el ejemplo anterior si defines un atributo como **nombre = \"Sin nombre\"** dentro de la clase **Usuario**, todos los objetos instanciados de la clase Usuario tendrán inicialmente el mismo valor **\"Sin nombre\"** para el atributo nombre.\n",
    "        ```python\n",
    "            class Usuario:\n",
    "                # atributo de clase  \n",
    "                nombre = \"Sin nombre\"\n",
    "            \n",
    "            persona_1 = Usuario() \n",
    "        ```\n",
    "\n",
    "\n",
    "    * **Atributos de instancia:** Son atributos que se asignan y personalizan para cada instancia específica al momento de crearla. Estos atributos se definen típicamente dentro del método **\\_\\_init\\_\\_** y pueden recibir valores únicos para cada objeto.\n",
    "        \n",
    "        * sintaxis para el metodo **\\_\\_init\\_\\_:**\n",
    "        ```python\n",
    "                def __init__(self, parametro_1, _5)\n",
    "                self.atributo_1 = parametro_1\n",
    "                self.atributo_2 = parametro_2\n",
    "                self.atributo_3 = parametro_3\n",
    "                self.atributo_4 = parametro_4\n",
    "                self.atributo_5 = parametro_5\n",
    "        ```\n",
    "        *  En general, la sintaxis para designar los atributos es la siguiente manera:\n",
    "\n",
    "            * **self.atributo = parametro**\n",
    "\n",
    "            * Suele ser mejor poner el mismo nombre para el atributo y el parametro esto le da mucho mas legibilidad al codigo. Recordar que un atributo es una variable que es dentro de una clase.parametro_2, parametro_3, parametro_4, parametro\n",
    "  "
   ]
  },
  {
   "cell_type": "markdown",
   "metadata": {},
   "source": [
    "***ejemplo utilizando metodo \\_\\_init\\_\\_*** <br>\n",
    "*esta vez usamos el código anterior usando el método constructor*. \n",
    "*con el metodo **\\_\\_init\\_\\_** podemos dar un estado inicial a los atributos de los objetos en la propia instanciación*"
   ]
  },
  {
   "cell_type": "code",
   "execution_count": null,
   "metadata": {},
   "outputs": [],
   "source": [
    "class Usuario:\n",
    "    # atributo de clase\n",
    "    hora_ultima_sesion = None\n",
    "\n",
    "    # método constructor   \n",
    "    def __init__(self, nombre, apellido, \n",
    "                 edad, direccion, telefono):  \n",
    "    # atributos de instancia\n",
    "        self.nombre = nombre\n",
    "        self.apellido = apellido\n",
    "        self.edad = edad\n",
    "        self.direccion = direccion\n",
    "        self.telefono = telefono\n",
    "    \n",
    "    def iniciar_sesion(self):\n",
    "        print(\"El usuario ha iniciado sesión\")\n",
    "    def cerrar_sesion(self):\n",
    "        print(\"El usuario ha cerrado sesión\")\n",
    "    def cambiar_nombre_perfil(self):\n",
    "        print(\"Se cambió el nombre\")\n",
    "\n",
    "\n",
    "# crear un objeto \n",
    "usuario_1 = Usuario.__init__(\"Pedro\", \"Fernandez\", \n",
    "                    32, \"C/program/carpeta_x\", \"123456\")\n",
    "#\n",
    "print(usuario_1.nombre)\n",
    " "
   ]
  },
  {
   "cell_type": "markdown",
   "metadata": {},
   "source": [
    "* *tambien es posible resignar los valores de los atributos de instancia como los atributos de clase.*"
   ]
  },
  {
   "cell_type": "code",
   "execution_count": 28,
   "metadata": {},
   "outputs": [
    {
     "name": "stdout",
     "output_type": "stream",
     "text": [
      "Quique\n",
      "10/01/2025\n"
     ]
    }
   ],
   "source": [
    "# Estado inicial a los atributos de instancia\n",
    "usuario_1 = Usuario(\"Pe(dro\", \"Fernandez\", \n",
    "                    32, \"C/program/carpeta_x\", \"123456\")\n",
    "\n",
    "# reasignaciones \n",
    "usuario_1.nombre = \"Quique\" # reasignando atributo de clase\n",
    "usuario_1.hora_ultima_sesion = (\"10/01/2025\") # reasignando atributo de instancia\n",
    "\n",
    "# probar atributos\n",
    "print(usuario_1.nombre)\n",
    "print(usuario_1.hora_ultima_sesion)"
   ]
  },
  {
   "cell_type": "markdown",
   "metadata": {},
   "source": [
    "**Ejemplo:** en el caso, si queremos inicializar el atributo nombre.<br>\n",
    "*El metodo init nos obliga inicializar los objetos con todos parametros que se especifiquen en la clase.*"
   ]
  },
  {
   "cell_type": "code",
   "execution_count": null,
   "metadata": {},
   "outputs": [],
   "source": [
    "usuario_2 = Usuario(nombre = \"Enrique\") # TypeError "
   ]
  },
  {
   "cell_type": "markdown",
   "metadata": {},
   "source": [
    "##### **4.2.  *Self***"
   ]
  },
  {
   "cell_type": "markdown",
   "metadata": {},
   "source": [
    "* self es un parámetro que debe estar en la primera posición en los métodos y en el \\_\\_init\\_\\_, puesto no ponerlo resultará en 0error al llamar un método sin self. "
   ]
  },
  {
   "cell_type": "code",
   "execution_count": null,
   "metadata": {},
   "outputs": [],
   "source": [
    "class Clase:\n",
    "\n",
    "    def metodo_sin_self():\n",
    "        print(\"no se ejecutrá\")\n",
    "\n",
    "objeto_1 = Clase()\n",
    "\n",
    "# llamando el método sin el self como parametro\n",
    "objeto_1.metodo_sin_self() # TypeError: Clase.metodo_sin_self() takes 0 positional arguments but 1 was given"
   ]
  },
  {
   "cell_type": "markdown",
   "metadata": {},
   "source": [
    "* Al llamar la funcion <b>metodo_sin_self()</b> resultará en un error de argumeto posicional, aqui aparace que el método no tiene argumentos(correcto por que no le hemos puesto un parámetro) pero en el error si aparece que fue añadido un argumento al llamarlo, esto es raro por que en la llamada no hemos puesto nada. sin embargo, el interprete de Python si lo ha hecho, ha pasado un argumento para self. entonces se debe colocar siempre el parámetro self para que necesita para funcionar inaternamete de manera correctamente.\n",
    "\n",
    "* El parámetro <b>self</b> sirve para representar a los propios objetos creados a partir de cierta clase, gracias a esto podemos acceder mediante él a los atributos y métodos de una clase. Sin <b>self</b> los métodos de una clase no tendrían forma de saber a qué instancia de la clase se están aplicando, es decir, es decir en el código general de la clase \"la plantilla\" para todos los objetos y gracias a ese self el interprete de Python apunta de manera correcta a cada objeto.\n",
    "\n",
    "* El nombre self no es una palabra reservada de python si no mas bien es una convención, osea puede tomar cualquier nombre, pero se usa el nombre self simplemente.\n",
    "\n",
    "* <b>Por ejemplo:</b> si llamo a <b>usuario_1.iniciar_sesion()</b> pues con el self se sabrá con que objeto se está llamando este método, self se emplea como comodín para remplazarse por el objeto con el que se llama a un atributo de la clase o a un método dento de ella."
   ]
  },
  {
   "cell_type": "markdown",
   "metadata": {},
   "source": [
    "**Ejemplo:** *utilizando el código anterior instanciamos un objeto para llamar un metodo y explicar self de manera practica*"
   ]
  },
  {
   "cell_type": "code",
   "execution_count": 36,
   "metadata": {},
   "outputs": [
    {
     "name": "stdout",
     "output_type": "stream",
     "text": [
      "Adriana ha iniciado sesión\n",
      "Adriana ha iniciado sesión\n"
     ]
    }
   ],
   "source": [
    "class Usuario:\n",
    "    # atributo de clase\n",
    "    hora_ultima_sesion = None\n",
    "\n",
    "    # atributos de instancia\n",
    "    def __init__(self, nombre, apellido, \n",
    "                 edad, direccion, telefono):  \n",
    "    \n",
    "        self.nombre = nombre\n",
    "        self.apellido = apellido\n",
    "        self.edad = edad\n",
    "        self.direccion = direccion\n",
    "        self.telefono = telefono\n",
    "    # aqui he modificado iniciar_sesion() para que muestre el nombre del usuario de la instancia en el mensaje.\n",
    "    def iniciar_sesion(self):\n",
    "        print(f\"{self.nombre} ha iniciado sesión\")\n",
    "    def cerrar_sesion(self):\n",
    "        print(\"usuario ha cerrado sesión\")\n",
    "    def cambiar_nombre_perfil(self):\n",
    "        print(\"Se cambió el nombre\")\n",
    "\n",
    "\n",
    "# creando el objeto\n",
    "usuario_2 = Usuario(\"Adriana\", \"Lopez\", 28,\n",
    "                     \"sin dirección\", \"987654321\")"
   ]
  },
  {
   "cell_type": "markdown",
   "metadata": {},
   "source": [
    "Una vez instanciado usuario_2 de tipo Usuario se puede llamar algún método:\n",
    "\n",
    "* cuando llamamos un método con un objeto usualmente se realiza de la siguiente forma: **usuario_2.metodo(argumentos)**\n",
    "\n",
    "```python\n",
    "        usuario_2.iniciar_sesion()\n",
    "```\n",
    "* Sin embargo Python convierte esa llamada en esto: **clase.metodo(usuario_2, argumentos)**. aquí el identificador usuario_2 como argumento corresponde al parámetro self\n",
    "```python\n",
    "        Usuario.iniciar_sesion(usuario_2) \n",
    "```\n",
    "\n",
    "\n",
    "Se concluye que self automatiza y simplfica la sintaxis, ya que si no se tendría que indicar el objeto cada vez que se llama a un método. entonces self referencia al objeto."
   ]
  },
  {
   "cell_type": "markdown",
   "metadata": {},
   "source": [
    "\n",
    "#### **5. Herencia de clase**"
   ]
  },
  {
   "cell_type": "markdown",
   "metadata": {},
   "source": [
    "&nbsp;&nbsp;&nbsp;&nbsp; La herencia de clases permite crear nuevas clases que posean características y funcionalidades de otras clases sin repetir código innecesariamente.\n",
    "\n",
    "&nbsp;&nbsp;&nbsp;&nbsp;  En herencia, se le llama clase base a la clase principal; también se conoce como clase madre o superclase. Por otro lado, la clase derivada es la clase que hereda de la base; también se denomina clase hija o subclase. La sintaxis para crear una herencia es la siguiente:\n",
    "```python\n",
    "            class NombreSubclase(NombreSuperclase):\n",
    "                # Código de la subclase\n",
    "                # (NombreSuperClase) se herederá la clase \n",
    "```"
   ]
  },
  {
   "cell_type": "markdown",
   "metadata": {},
   "source": [
    "**Ejemplo:** *Sin utilizar herencia.*"
   ]
  },
  {
   "cell_type": "code",
   "execution_count": 39,
   "metadata": {},
   "outputs": [
    {
     "name": "stdout",
     "output_type": "stream",
     "text": [
      "Hola, soy María. Mi profesión es informática\n",
      "Hola, soy Javier. Mi profesión es medico\n"
     ]
    }
   ],
   "source": [
    "class Ciudadano:\n",
    "    def __init__(self, nombre, profesion):\n",
    "        self.nombre = nombre\n",
    "        self.profesion = profesion\n",
    "    \n",
    "    def saludar(self):\n",
    "        print(f\"Hola, soy {self.nombre}. Mi profesión es {self.profesion}\")\n",
    "\n",
    "\n",
    "class Medico:\n",
    "    def __init__(self, nombre):\n",
    "        self.nombre = nombre \n",
    "        self.profesion = \"médico\"\n",
    "\n",
    "    def saludar(self):\n",
    "        print(f\"Hola, soy {self.nombre}. Mi profesión es {self.profesion}\")\n",
    "\n",
    "\n",
    "a = Ciudadano(\"María\", \"informática\")\n",
    "b = Medico(\"Javier\")\n",
    "\n",
    "a.saludar()\n",
    "b.saludar()"
   ]
  },
  {
   "cell_type": "markdown",
   "metadata": {},
   "source": [
    "&nbsp;&nbsp;&nbsp;&nbsp;  El problema aquí es que está repitiendo mucho código. ambas clases (Ciudadano y Medico) son muy similares, pero el código se repite innecesariamente. Al crear instancias de ambas clases, se observa que tienen métodos y atributos redundantes. Para evitar esta repetición, se puede hacer que la clase Medico herede de la clase Ciudadano. Esto permite reutilizar el método  \\_\\_init\\_\\_ y el método saludar de la superclase. La subclase solo necesita especificar el valor predeterminado para profesion"
   ]
  },
  {
   "cell_type": "markdown",
   "metadata": {},
   "source": [
    "**Ejemplo:** *ahora utilizamos herencia*"
   ]
  },
  {
   "cell_type": "code",
   "execution_count": 5,
   "metadata": {},
   "outputs": [
    {
     "name": "stdout",
     "output_type": "stream",
     "text": [
      "Hola, soy Raúl. Mi profesión es médico\n",
      "Hola, soy Ana. Mi profesión es informática\n",
      "Hola, soy Raquel. Mi profesión es policía\n",
      "Llamada a todas la unidades.\n"
     ]
    }
   ],
   "source": [
    "class Ciudadano:\n",
    "    def __init__(self, nombre, profesion):\n",
    "        self.nombre = nombre\n",
    "        self.profesion = profesion\n",
    "    \n",
    "    def saludar(self):\n",
    "        print(f\"Hola, soy {self.nombre}. Mi profesión es {self.profesion}\")\n",
    "\n",
    "\n",
    "class Medico(Ciudadano): # la clase heredará todo de la clase Ciudadano\n",
    "    def __init__(self, nombre):\n",
    "        super().__init__(nombre, \"médico\")\n",
    "\n",
    "class Policia(Ciudadano):\n",
    "    def __init__(self, nombre): # la clase heredará todo de la clase Ciudadano\n",
    "        super().__init__(nombre, \"policía\")\n",
    "\n",
    "    def pedir_refuerzos(self): # nuevo método de la subclase\n",
    "        print(\"Llamada a todas la unidades.\")\n",
    "\n",
    "\n",
    "\n",
    "persona_2 = Ciudadano(\"Ana\", \"informática\")\n",
    "persona_1 = Medico(\"Raúl\")\n",
    "persona_3 = Policia(\"Raquel\")\n",
    "\n",
    "persona_1.saludar() \n",
    "persona_2.saludar() #  el objeto de la subclase Medico llama a un método de la superclase Ciudadano\n",
    "persona_3.saludar() # el objeto de la subclase Policia llama a un método de la superclase Ciudadano\n",
    "\n",
    "persona_3.pedir_refuerzos() # llamada al método propio de la subclase"
   ]
  },
  {
   "cell_type": "markdown",
   "metadata": {},
   "source": [
    "&nbsp;&nbsp;&nbsp;&nbsp;  **super()** es una función predefinida en Python que se utiliza para acceder a métodos y atributos de la superclase desde una subclase. En este ejemplo, **super()** permite inicializar el método **\\_\\_init\\_\\_** de la superclase Ciudadano, evitando repetir código en las subclases. Por ejemplo, en la subclase Medico, el método __init__ llama al de la superclase, pasando un valor predefinido \"médico\" como segundo argumento:\n",
    "```python\n",
    "            class Medico(Ciudadano):  # La clase hereda todo de la clase Ciudadano\n",
    "                def __init__(self, nombre):\n",
    "                    # super() llama al método constructor de la superclase\n",
    "                    super().__init__(nombre, \"médico\") # el parámetro médico sobreescribe al parárameto nombre de la superclase.\n",
    "            \n",
    "            persona_1 = Medico(\"Raúl\")\n",
    "```\n",
    "&nbsp;&nbsp;&nbsp;&nbsp; De este modo, al crear una instancia de Medico [ por ejemplo, **Medico(\"Raúl\")** ], no es necesario especificar el valor de la profesión manualmente, ya que está establecido como **\"médico\"** dentro de la subclase.\n",
    "\n",
    "&nbsp;&nbsp;&nbsp;&nbsp; Además, las subclases pueden agregar nuevos métodos específicos para diferenciarse de la superclase. En este caso, **Policia** incluye un método adicional llamado **pedir_refuerzos**. Al crear una instancia de Policia, esta puede usar tanto los métodos heredados como el nuevo método definido en la subclase.\n",
    "\n",
    "```python\n",
    "            class Policia(Ciudadano):\n",
    "                def __init__(self, nombre):\n",
    "                    super().__init__(nombre, \"policía\")\n",
    "\n",
    "                def pedir_refuerzos(self): \n",
    "                    print(\"Llamada a todas la unidades.\")\n",
    "\n",
    "```\n",
    "---"
   ]
  },
  {
   "cell_type": "markdown",
   "metadata": {},
   "source": [
    "#### ***6. Sobrescritura de atributos y métodos.***"
   ]
  },
  {
   "cell_type": "markdown",
   "metadata": {},
   "source": [
    "&nbsp;&nbsp;&nbsp;&nbsp; La sobrescritura de atributos y métodos en herencia permite personalizar o modificar el comportamiento de una subclase, basándose en una superclase. Para ello, simplemente se define un atributo o método con el mismo nombre que el de la superclase dentro de la subclase. De esta forma, el elemento de la subclase reemplaza al de la superclase.\n",
    "\n",
    "&nbsp;&nbsp;&nbsp;&nbsp; Esto es útil para crear variaciones específicas en métodos o atributos heredados, ajustándolos a las necesidades de la subclase."
   ]
  },
  {
   "cell_type": "code",
   "execution_count": 13,
   "metadata": {},
   "outputs": [
    {
     "name": "stdout",
     "output_type": "stream",
     "text": [
      "En la oscuridad, la luz brillará. En la injusticia, la ley prevalecerá. siempre serviré y protegeré.\n",
      "Hola, soy Ana. Mi profesión es médico\n"
     ]
    }
   ],
   "source": [
    "class Ciudadano:\n",
    "    def __init__(self, nombre, profesion):\n",
    "        self.nombre = nombre\n",
    "        self.profesion = profesion\n",
    "    \n",
    "    def saludar(self):\n",
    "        print(f\"Hola, soy {self.nombre}. Mi profesión es {self.profesion}\")\n",
    "\n",
    "\n",
    "class Medico(Ciudadano): # la clase heredará todo de la clase Ciudadano\n",
    "    def __init__(self, nombre):\n",
    "        super().__init__(nombre, \"médico\")\n",
    "\n",
    "\n",
    "class Policia(Ciudadano):\n",
    "    def __init__(self, nombre):\n",
    "        super().__init__(nombre, \"policía\")\n",
    "    # sobrescribiendo el método saludar\n",
    "    def saludar(self):\n",
    "        print(\"En la oscuridad, la luz brillará. En la injusticia, la ley\" \\\n",
    "               \" prevalecerá. siempre serviré y protegeré.\")\n",
    "\n",
    "\n",
    "\n",
    "policia_1 = Policia(\"Raquel\")\n",
    "medico_1 = Medico(\"Ana\")\n",
    "\n",
    "\n",
    "policia_1.saludar() # En la oscuridad, la luz brillará. En la injusticia, la ley prevalecerá. siempre serviré y protegeré. \n",
    "medico_1.saludar() # Hola, soy Ana. Mi profesión es médico  "
   ]
  },
  {
   "cell_type": "markdown",
   "metadata": {},
   "source": [
    "---"
   ]
  },
  {
   "cell_type": "markdown",
   "metadata": {},
   "source": [
    "\n",
    "#### **7. Tipos de Herencia** "
   ]
  },
  {
   "cell_type": "markdown",
   "metadata": {},
   "source": [
    "&nbsp;&nbsp;&nbsp;&nbsp; La herencia en programación orientada a objetos se clasifica en diferentes tipos según la relación entre las clases y el número de clases involucradas. Estos tipos permiten organizar el diseño del código dependiendo de las necesidades del sistema. estas son:\n",
    "\n",
    "* **Herencia simple o única** \n",
    "* **Herencia múltiple** \n",
    "* **Herencia Multinivel**\n",
    "* **Herencia Jerárquica** \n",
    "* **Herencia  Híbrida**"
   ]
  },
  {
   "cell_type": "markdown",
   "metadata": {},
   "source": [
    "##### &nbsp;&nbsp;&nbsp;&nbsp;***7.A Antes de comenzar: la clase object***"
   ]
  },
  {
   "cell_type": "markdown",
   "metadata": {},
   "source": [
    "&nbsp;&nbsp;&nbsp;&nbsp; En Python, todas las clases (ya sean predeterminadas o creadas por el usuario) heredan implícitamente de la clase object. Esta es la clase raíz o la superclase de todas las clases en Python. Aunque no se vea explícitamente en la mayoría del código, cada clase en Python está directamente o indirectamente relacionada con la clase object.\n",
    "\n",
    "```python\n",
    "            class MiClase:\n",
    "                pass   \n",
    "```\n",
    "Aunque parece que esta clase Clase no hereda de nada, de hecho hereda de la **clase object** de manera implícita. de \n",
    "\n",
    "\n",
    "```python\n",
    "            class MiClase(object):\n",
    "                pass   \n",
    "            # esto realmente no afeca el código, puesto es lo que realmente lo que sucede en el código.\n",
    "```\n",
    " &nbsp;&nbsp;&nbsp;&nbsp; Aquí hemos declarado explícitamente que Clase hereda de object. Sin embargo, este código no cambia el comportamiento de la clase, ya que todas las clases en Python heredan de object de manera predeterminada, incluso si no se especifica.\n",
    "\n",
    "&nbsp;&nbsp;&nbsp;&nbsp; La clase object proporciona varios métodos predeterminados que pueden ser utilizados o sobrescritos por las clases derivadas. Entre estos métodos están:\n",
    "\n",
    "* **\\_\\_str\\_\\_():** Representación en forma de cadena de un objeto.\n",
    "* **\\_\\_repr\\_\\_():** Representación más detallada del objeto (usada en la consola).\n",
    "* **\\_\\_eq\\_\\_():** Compara si dos objetos son iguales.\n",
    "* **\\_\\_init\\_\\_():** El constructor de la clase, si no se define, heredará uno de object."
   ]
  },
  {
   "cell_type": "markdown",
   "metadata": {},
   "source": [
    "##### &nbsp;&nbsp;&nbsp;&nbsp; ***7.B Herencia simple o única***"
   ]
  },
  {
   "cell_type": "markdown",
   "metadata": {},
   "source": [
    "&nbsp;&nbsp;&nbsp;&nbsp; Esta herencia ocurre cuando una subclase hereda una única superclase. esta este es el tipo de herencia utilizada anteriormente.\n",
    "\n",
    "* **Clase A --> Clase B**\n",
    "\n",
    "```python\n",
    "        class A: # superclase\n",
    "            pass\n",
    "\n",
    "        class B(A): # subclase\n",
    "            pass\n",
    "```"
   ]
  },
  {
   "cell_type": "markdown",
   "metadata": {},
   "source": [
    "***Ejemplo***"
   ]
  },
  {
   "cell_type": "code",
   "execution_count": null,
   "metadata": {},
   "outputs": [],
   "source": [
    "class Animal:\n",
    "    def mover(self):\n",
    "        print(\"El animal se está moviendo.\")\n",
    "\n",
    "\n",
    "class Perro(Animal):\n",
    "    def ladrar(self):\n",
    "        print(\"El perro está ladrando.\")\n",
    "\n",
    "\n",
    "mi_perro = Perro(\"Firulais\")\n",
    "mi_perro.mover()  # Salida: Rex se está moviendo.\n",
    "mi_perro.ladrar()  # Salida: Rex está ladrando.\n",
    "\n"
   ]
  },
  {
   "cell_type": "markdown",
   "metadata": {},
   "source": [
    "##### &nbsp;&nbsp;&nbsp;&nbsp; ***7.C Herencia múltiple***"
   ]
  },
  {
   "cell_type": "markdown",
   "metadata": {},
   "source": [
    "&nbsp;&nbsp;&nbsp;&nbsp; Es una subclase que recibe herencia de múltiples superclases. Esto permite combinar características de múltiples clases.\n",
    "\n",
    "+ ***diagrama***\n",
    "\n",
    " &nbsp;&nbsp;&nbsp;&nbsp; **Clase A**<br>\n",
    " &nbsp;&nbsp;&nbsp;&nbsp; **Clase B**&nbsp;&nbsp;&nbsp;&nbsp;  --->    **Clase D** <br>\n",
    " &nbsp;&nbsp;&nbsp;&nbsp; **Clase C**<br>\n",
    "\n",
    " * ***sintaxis***\n",
    "\n",
    "```python\n",
    "        class A: # superclase\n",
    "            pass\n",
    "\n",
    "        class B: # superclase\n",
    "            pass\n",
    "\n",
    "        class C: # superclase\n",
    "            pass\n",
    "\n",
    "        class D(A, B, C): # subclase\n",
    "            pass\n",
    "```"
   ]
  },
  {
   "cell_type": "markdown",
   "metadata": {},
   "source": [
    "***Ejemplo:***"
   ]
  },
  {
   "cell_type": "code",
   "execution_count": 3,
   "metadata": {},
   "outputs": [
    {
     "name": "stdout",
     "output_type": "stream",
     "text": [
      "Este objeto puede volar.\n",
      "Este objeto puede nadar.\n"
     ]
    }
   ],
   "source": [
    "class Volador: # superclase\n",
    "    def volar(self):\n",
    "        print(\"Este objeto puede volar.\")\n",
    "\n",
    "\n",
    "class Nadador: # superclase\n",
    "    def nadar(self):\n",
    "        print(\"Este objeto puede nadar.\")\n",
    "\n",
    "\n",
    "class Pato(Volador, Nadador): # subclase\n",
    "    pass\n",
    "\n",
    "\n",
    "mi_pato = Pato()\n",
    "mi_pato.volar()  # Salida: Este objeto puede volar.\n",
    "mi_pato.nadar()  # Salida: Este objeto puede nadar."
   ]
  },
  {
   "cell_type": "markdown",
   "metadata": {},
   "source": [
    "##### &nbsp;&nbsp;&nbsp;&nbsp; ***7.D Herencia multinivel***"
   ]
  },
  {
   "cell_type": "markdown",
   "metadata": {},
   "source": [
    "&nbsp;&nbsp;&nbsp;&nbsp; Se refiere a una cadena de herencia en la que una subclase hereda de otra subclase que, a su vez, hereda de una superclase.\n",
    "\n",
    "* **Diagrama**\n",
    "\n",
    "&nbsp;&nbsp;&nbsp;&nbsp; **clase A** --> **clase B** --> **clase C** --> **clase D**\n",
    "\n",
    "* ***sintaxis***"
   ]
  },
  {
   "cell_type": "code",
   "execution_count": 12,
   "metadata": {},
   "outputs": [
    {
     "name": "stdout",
     "output_type": "stream",
     "text": [
      "Hola! esta es la clase D \n",
      "[<class '__main__.A'>, <class 'object'>]\n",
      "[<class '__main__.D'>, <class '__main__.C'>, <class '__main__.B'>, <class '__main__.A'>, <class 'object'>]\n"
     ]
    }
   ],
   "source": [
    "class A: # superclase\n",
    "    def saludar(self):\n",
    "        print(\"Hola! esta es la clase A\")\n",
    "class B(A): # subclase de A\n",
    "    def saludar(self):\n",
    "        print(\"Hola! esta es la clase B\")\n",
    "\n",
    "class C(B): # subclase de B\n",
    "    def saludar(self):\n",
    "        print(\"Hola! esta es la clase C\")\n",
    "\n",
    "class D(C): # subclase de C\n",
    "    pass\n",
    "\n",
    "# se ejecuta el método mas proximo\n",
    "prueba = D() \n",
    "prueba.saludar() # salida: Hola! esta es la clase D \n",
    "\n",
    "# mro() es una funcion muestra el camino de herencia, sirve para depurar.\n",
    "print(A.mro()) # salida: [<class '__main__.A'>, <class 'object'>]\n",
    "print(D.mro()) # salida: [<class '__main__.D'>, <class '__main__.C'>, <class '__main__.B'>, <class '__main__.A'>, <class 'object'>]"
   ]
  },
  {
   "cell_type": "markdown",
   "metadata": {},
   "source": [
    "\n",
    "\n",
    "| Clase | Nivel | Herencias |\n",
    "| --- | --- | --- |\n",
    "| A| 1| object (clase base de python) |\n",
    "| B | 2 | object, A |\n",
    "| C | 3 | object, A, B |\n",
    "| D | 4 | object, A, B, C |"
   ]
  },
  {
   "cell_type": "markdown",
   "metadata": {},
   "source": [
    "***Ejemplo***"
   ]
  },
  {
   "cell_type": "code",
   "execution_count": null,
   "metadata": {},
   "outputs": [],
   "source": [
    "class Vehiculo:\n",
    "    def encender(self):\n",
    "        print(\"El vehículo está encendido.\")\n",
    "\n",
    "\n",
    "class Automovil(Vehiculo):\n",
    "    def conducir(self):\n",
    "        print(\"El automóvil está en movimiento.\")\n",
    "\n",
    "\n",
    "class Deportivo(Automovil):\n",
    "    def acelerar(self):\n",
    "        print(\"El deportivo está acelerando.\")\n",
    "\n",
    "\n",
    "mi_deportivo = Deportivo()\n",
    "mi_deportivo.encender()   # Salida: El vehículo está encendido.\n",
    "mi_deportivo.conducir()   # Salida: El automóvil está en movimiento.\n",
    "mi_deportivo.acelerar()   # Salida: El deportivo está acelerando."
   ]
  },
  {
   "cell_type": "markdown",
   "metadata": {},
   "source": [
    "___"
   ]
  },
  {
   "cell_type": "markdown",
   "metadata": {},
   "source": [
    "##### &emsp; ***7.E Herencia jerárquica***"
   ]
  },
  {
   "cell_type": "markdown",
   "metadata": {},
   "source": [
    "&emsp; Ocurre cuando varias subclases heredan de una misma superclase.<br>\n",
    "<br>\n",
    "&emsp; ***Diagrama***\n",
    "\n",
    "&emsp;&emsp;&emsp;&emsp;&emsp; --> Clase B <br>\n",
    "&emsp; Clase A  ---> Clase C<br>\n",
    "&emsp;&emsp;&emsp;&emsp;&emsp; --> Clase D <br>\n",
    "\n",
    "&emsp; ***Sintaxis***\n",
    "```python\n",
    "        class A: # superclase, clase jerarquica\n",
    "            pass\n",
    "\n",
    "        class B(A): \n",
    "            pass\n",
    "\n",
    "        class C(A): \n",
    "            pass\n",
    "\n",
    "        class D(A): \n",
    "            pass\n",
    "```"
   ]
  },
  {
   "cell_type": "markdown",
   "metadata": {},
   "source": [
    "***Ejemplo***"
   ]
  },
  {
   "cell_type": "code",
   "execution_count": null,
   "metadata": {},
   "outputs": [],
   "source": [
    "class Instrumento:\n",
    "    def tocar(self):\n",
    "        print(\"Tocando música.\")\n",
    "\n",
    "\n",
    "class Guitarra(Instrumento):\n",
    "    def rasguear(self):\n",
    "        print(\"Rasgueando la guitarra.\")\n",
    "\n",
    "\n",
    "class Piano(Instrumento):\n",
    "    def presionar_teclas(self):\n",
    "        print(\"Presionando las teclas del piano.\")\n",
    "\n",
    "    \n",
    "mi_guitarra = Guitarra()\n",
    "mi_guitarra.tocar()  # Salida: Tocando música.\n",
    "mi_guitarra.rasguear()  # Salida: Rasgueando la guitarra.\n",
    "\n",
    "mi_piano = Piano()\n",
    "mi_piano.tocar()  # Salida: Tocando música.\n",
    "mi_piano.presionar_teclas()  # Salida: Presionando las teclas del piano.\n"
   ]
  },
  {
   "cell_type": "markdown",
   "metadata": {},
   "source": [
    "---"
   ]
  },
  {
   "cell_type": "markdown",
   "metadata": {},
   "source": [
    "##### &nbsp;&nbsp;&nbsp;&nbsp; ***7.F Herencia híbrida o mixta***"
   ]
  },
  {
   "cell_type": "markdown",
   "metadata": {},
   "source": [
    "&emsp;Es una combinación de diferentes tipos de herencia, como jerárquica, múltiple o multinivel. El uso puede ser complejo, especialmente con el orden de resolución de métodos (MRO, por sus siglas en inglés)."
   ]
  },
  {
   "cell_type": "code",
   "execution_count": null,
   "metadata": {},
   "outputs": [],
   "source": [
    "class A:\n",
    "    def mensaje(self):\n",
    "        print(\"Mensaje desde la clase A.\")\n",
    "\n",
    "\n",
    "class B(A):\n",
    "    def mensaje(self):\n",
    "        print(\"Mensaje desde la clase B.\")\n",
    "\n",
    "\n",
    "class C(A):\n",
    "    pass\n",
    "\n",
    "\n",
    "class D(B, C):\n",
    "    pass\n"
   ]
  },
  {
   "cell_type": "markdown",
   "metadata": {},
   "source": [
    "---"
   ]
  },
  {
   "cell_type": "markdown",
   "metadata": {},
   "source": [
    "#### 8. **Encapsulamiento**"
   ]
  },
  {
   "cell_type": "markdown",
   "metadata": {},
   "source": [
    "&emsp;  El **encapsulamiento** es el concepto de agrupar atributos y métodos en un mismo conjunto. Al crear una clase, estamos implementando este principio. Su propósito es controlar el acceso a los atributos y métodos internos de una clase, utilizando diferentes niveles de **visibilidad** mediante el uso de **modificadores de acceso**. Estos modificadores permiten que ciertos detalles de la implementación del código queden ocultos para el usuario, es decir, para quien utiliza las clas es.\n",
    "\n",
    "&emsp; *Python es bastante laxo con el tema de encapsulamiento. Por lo tanto, en esta sección se mostrará principalmente meras convenciones más que reglas de sintaxis definidas del lenguaje, esto es útil para  añadir legibilidad a distintos propósitos con los miembros de las clases (atributos y métodos).*\n",
    "\n",
    "* se destinguen tres tipos de acceso a miembros: **público**, **protegido(\\_)**, **privado(\\_\\_)**.\n",
    "\n",
    "    * **miembros público:** Son accesible incluso fuera de la clase.\n",
    "    * **miembros protegidos:** según la convención podrán ser accedidos en su clase  y en las subclase que tengan herencia\n",
    "    * **los miembroso privado:** solo serán accesible en la propia clase\n",
    "\n",
    "* ejemplo:\n",
    "\n",
    "```python\n",
    "        class Usuario:\n",
    "            def __init__(self, id, nombre, apellido):\n",
    "                self.id = id # Público\n",
    "                self._nombre = nombre # Protegido\n",
    "                self.__apellido = apellido # Privado\n",
    "```\n",
    "\n",
    " &emsp;&emsp;*recomendacion es conveniente que se empiece al crear una clase espedificar los miembros como privados primero, y que luego ir cambiando solo los que se necesiten en otro tipo de acceso¨*"
   ]
  },
  {
   "cell_type": "code",
   "execution_count": 17,
   "metadata": {},
   "outputs": [
    {
     "name": "stdout",
     "output_type": "stream",
     "text": [
      "1000\n"
     ]
    }
   ],
   "source": [
    "class Usuario:\n",
    "    id = 1 # Público\n",
    "\n",
    "# accedemos y modificamos al atributo públicoo\n",
    "Usuario.id = 1000\n",
    "\n",
    "# instanciamos el objeto\n",
    "usuario_1 = Usuario()\n",
    "\n",
    "# comprobamos el valor de la id\n",
    "print(usuario_1.id)\n",
    "\n",
    "''''al modificar al atributo público implicaría que todos los objetos instanciados tengas ese atributo modificado.\n",
    "esto podria generar confusiones, consecuentemente errores inesperados.'''"
   ]
  },
  {
   "cell_type": "code",
   "execution_count": 24,
   "metadata": {},
   "outputs": [
    {
     "name": "stdout",
     "output_type": "stream",
     "text": [
      "1\n",
      "Enrique\n"
     ]
    },
    {
     "ename": "AttributeError",
     "evalue": "'Usuario' object has no attribute '__apellido'",
     "output_type": "error",
     "traceback": [
      "\u001b[1;31m---------------------------------------------------------------------------\u001b[0m",
      "\u001b[1;31mAttributeError\u001b[0m                            Traceback (most recent call last)",
      "Cell \u001b[1;32mIn[24], line 10\u001b[0m\n\u001b[0;32m      8\u001b[0m \u001b[38;5;28mprint\u001b[39m(usuario_1\u001b[38;5;241m.\u001b[39mid)\n\u001b[0;32m      9\u001b[0m \u001b[38;5;28mprint\u001b[39m(usuario_1\u001b[38;5;241m.\u001b[39m_nombre)\n\u001b[1;32m---> 10\u001b[0m \u001b[38;5;28mprint\u001b[39m(\u001b[43musuario_1\u001b[49m\u001b[38;5;241;43m.\u001b[39;49m\u001b[43m__apellido\u001b[49m)\n",
      "\u001b[1;31mAttributeError\u001b[0m: 'Usuario' object has no attribute '__apellido'"
     ]
    }
   ],
   "source": [
    "class Usuario:\n",
    "    def __init__(self, id, nombre, apellido):\n",
    "        self.id = id # Público\n",
    "        self._nombre = nombre # Protegido\n",
    "        self.__apellido = apellido # Privado\n",
    "\n",
    "usuario_1 = Usuario(1, \"Enrique\", \"Barros\")\n",
    "print(usuario_1.id) # salida: 1\n",
    "print(usuario_1._nombre) # salida: Enrique\n",
    "print(usuario_1.__apellido) # salida: AttributeError: 'Usuario' object has no attribute '__apellido'"
   ]
  },
  {
   "cell_type": "markdown",
   "metadata": {},
   "source": [
    "**Interfaz pública y acceso en Python**\n",
    "\n",
    "&emsp;Las API, módulos e incluso el lenguaje de Python proporcionan código listo para ser utilizado por los desarrolladores, lo que se conoce como interfaz pública. Esta interfaz incluye todos los elementos diseñados para ser accesibles y utilizados fácilmente. En contraste, el código de funcionamiento interno no forma parte de la interfaz pública, ya que está pensado para trabajar en segundo plano y no ser accedido directamente.\n",
    "\n",
    "&emsp; En Python, los modificadores de acceso permiten diferenciar entre dos tipos de acceso:\n",
    "\n",
    "* **Público**: Se refiere a cualquier miembro de una clase (atributo o método) que deseamos exponer en la interfaz pública y que esté accesible para los desarrolladores.\n",
    "* **No público**: Incluye los miembros que no deben ser accedidos desde fuera de la clase, ya que están destinados exclusivamente a su funcionamiento interno, no necesitamos saber lo que pasa en el código interno.\n",
    "\n",
    "**Método público para acceso privado**\n",
    "\n",
    "&emsp; Se puede crear un método publico que sirva para acceder desde dentro de una clase a un miembro privado. lo que conseguimos con esto es que con la interfaz pública que se utilice el método público y no tengamos que acceder directamente al atributo principal.\n",
    "\n"
   ]
  },
  {
   "cell_type": "markdown",
   "metadata": {},
   "source": [
    "* ***Ejemplo:*** *método público para el acceso privado, buena práctica*"
   ]
  },
  {
   "cell_type": "code",
   "execution_count": 25,
   "metadata": {},
   "outputs": [
    {
     "name": "stdout",
     "output_type": "stream",
     "text": [
      "El apellido es: Barros\n"
     ]
    }
   ],
   "source": [
    "class Usuario:\n",
    "    def __init__(self, id, nombre, apellido):\n",
    "        self.id = id # Público\n",
    "        self.nombre = nombre # Protegido\n",
    "\n",
    "        # self privado\n",
    "        self.__apellido = apellido # Privado\n",
    "\n",
    "    def muestra_apellidos(self):\n",
    "        print(f\"El apellido es: {self.__apellido}\")\n",
    "\n",
    "# buena práctica.\n",
    "usuario_1 = Usuario(1, \"Enrique\", \"Barros\")\n",
    "usuario_1.muestra_apellidos()"
   ]
  },
  {
   "cell_type": "markdown",
   "metadata": {},
   "source": [
    "**Name mangling**\n",
    "\n",
    "&emsp;Sirve para la modificacion de nombres de variables y métodos de una clase para evitar conflictos con nombres externos o accesos accidentales. Esto se logra poniendo el nombre de un miembro con __ de prefijo, es decir, haciendo miembros privados. por ejemplo en el codigo el nombre del miembro se designa de esta forma: **\\_\\_apellido**. Sin embargo, el interprete de python lo convierte realmente a esto **\\_\\_Usuario\\_\\_apellido**. la sintaxis general es **\\_\\_NombreClase\\_\\_Miembro**, es por eso que cuando se intenta acceder fuera de la clase a este atributo nos dará a un error de atributo inexistente.  \n",
    "\n",
    "* **dir():** Es una función predefinida que nos devolverá una lista que contiene los nombres de los atributos y métodos de un objeto al que le pasemos argumento. esto nos sirve acceder al miembro privado, puesto que python no es tan extricto con los miembros privados, pero esto es una mala práctica"
   ]
  },
  {
   "cell_type": "markdown",
   "metadata": {},
   "source": [
    " ***Ejemplo:*** *método público para el acceso privado. mala práctica*"
   ]
  },
  {
   "cell_type": "code",
   "execution_count": 27,
   "metadata": {},
   "outputs": [
    {
     "name": "stdout",
     "output_type": "stream",
     "text": [
      "['_Usuario__apellido', '__class__', '__delattr__', '__dict__', '__dir__', '__doc__', '__eq__', '__firstlineno__', '__format__', '__ge__', '__getattribute__', '__getstate__', '__gt__', '__hash__', '__init__', '__init_subclass__', '__le__', '__lt__', '__module__', '__ne__', '__new__', '__reduce__', '__reduce_ex__', '__repr__', '__setattr__', '__sizeof__', '__static_attributes__', '__str__', '__subclasshook__', '__weakref__', 'id', 'muestra_apellidos', 'nombre']\n",
      "Barros\n"
     ]
    }
   ],
   "source": [
    "class Usuario:\n",
    "    def __init__(self, id, nombre, apellido):\n",
    "        self.id = id # Público\n",
    "        self.nombre = nombre # Protegido\n",
    "\n",
    "        # self privado\n",
    "        self.__apellido = apellido # Privado\n",
    "\n",
    "    def muestra_apellidos(self):\n",
    "        print(f\"El apellido es: {self.__apellido}\")\n",
    "\n",
    "# mala practica para acceder un privado\n",
    "usuario_1 = Usuario(1, \"Enrique\", \"Barros\")\n",
    "print(dir(usuario_1)) # nos interesa esto de la salida: '_Usuario__apellido'\n",
    "print(usuario_1._Usuario__apellido) # salida: Barros\n"
   ]
  },
  {
   "cell_type": "code",
   "execution_count": 29,
   "metadata": {},
   "outputs": [
    {
     "ename": "AttributeError",
     "evalue": "'Perro' object has no attribute '_Perro__edad'",
     "output_type": "error",
     "traceback": [
      "\u001b[1;31m---------------------------------------------------------------------------\u001b[0m",
      "\u001b[1;31mAttributeError\u001b[0m                            Traceback (most recent call last)",
      "Cell \u001b[1;32mIn[29], line 15\u001b[0m\n\u001b[0;32m     12\u001b[0m         \u001b[38;5;28mprint\u001b[39m(\u001b[38;5;124mf\u001b[39m\u001b[38;5;124m\"\u001b[39m\u001b[38;5;124mTengo \u001b[39m\u001b[38;5;132;01m{\u001b[39;00m\u001b[38;5;28mself\u001b[39m\u001b[38;5;241m.\u001b[39m__edad\u001b[38;5;132;01m}\u001b[39;00m\u001b[38;5;124m años\u001b[39m\u001b[38;5;124m\"\u001b[39m)\n\u001b[0;32m     14\u001b[0m perro_1 \u001b[38;5;241m=\u001b[39m Perro(\u001b[38;5;124m\"\u001b[39m\u001b[38;5;124mChester\u001b[39m\u001b[38;5;124m\"\u001b[39m, \u001b[38;5;241m3\u001b[39m, \u001b[38;5;124m\"\u001b[39m\u001b[38;5;124mHusky\u001b[39m\u001b[38;5;124m\"\u001b[39m)\n\u001b[1;32m---> 15\u001b[0m \u001b[43mperro_1\u001b[49m\u001b[38;5;241;43m.\u001b[39;49m\u001b[43mmostrar_edad\u001b[49m\u001b[43m(\u001b[49m\u001b[43m)\u001b[49m\n",
      "Cell \u001b[1;32mIn[29], line 12\u001b[0m, in \u001b[0;36mPerro.mostrar_edad\u001b[1;34m(self)\u001b[0m\n\u001b[0;32m     11\u001b[0m \u001b[38;5;28;01mdef\u001b[39;00m \u001b[38;5;21mmostrar_edad\u001b[39m(\u001b[38;5;28mself\u001b[39m):\n\u001b[1;32m---> 12\u001b[0m     \u001b[38;5;28mprint\u001b[39m(\u001b[38;5;124mf\u001b[39m\u001b[38;5;124m\"\u001b[39m\u001b[38;5;124mTengo \u001b[39m\u001b[38;5;132;01m{\u001b[39;00m\u001b[38;5;28;43mself\u001b[39;49m\u001b[38;5;241;43m.\u001b[39;49m\u001b[43m__edad\u001b[49m\u001b[38;5;132;01m}\u001b[39;00m\u001b[38;5;124m años\u001b[39m\u001b[38;5;124m\"\u001b[39m)\n",
      "\u001b[1;31mAttributeError\u001b[0m: 'Perro' object has no attribute '_Perro__edad'"
     ]
    }
   ],
   "source": [
    "class Animal: \n",
    "    def __init__(self, nombre, edad):\n",
    "        self.nombre = nombre # público,accesible desde cualquie subclase y fuera de la clase \n",
    "        self.__edad = edad # privado, en la convención solo deberá se accesible en la clase propia\n",
    "\n",
    "class Perro(Animal):\n",
    "    def __init__(self, nombre, edad, raza):\n",
    "        super().__init__(nombre, edad)\n",
    "        self.raza = raza \n",
    "    \n",
    "    def mostrar_edad(self):\n",
    "        print(f\"Tengo {self.__edad} años\")\n",
    "\n",
    "\n",
    "perro_1 = Perro(\"Chester\", 3, \"Husky\")\n",
    "perro_1.mostrar_edad( ) # AttributeError: 'Perro' object has no attribute '_Perro__edad'\n",
    "'''La restrinccion privada funciona. Si queremos que la subclase acceda al miembro seria mejor colocarlo en protegido'''"
   ]
  },
  {
   "cell_type": "markdown",
   "metadata": {},
   "source": [
    "#### 9. **Métodos getters y setters**"
   ]
  },
  {
   "cell_type": "markdown",
   "metadata": {},
   "source": [
    "* **Método getter:** sirve para acceder a los valores de una clase .\n",
    "* **Método setters** sirve para poder modificar los valores de la clase."
   ]
  },
  {
   "cell_type": "code",
   "execution_count": 43,
   "metadata": {},
   "outputs": [
    {
     "name": "stdout",
     "output_type": "stream",
     "text": [
      "32\n",
      "25\n"
     ]
    }
   ],
   "source": [
    "class Usuario:\n",
    "    def __init__(self, id, nombre, edad):\n",
    "        self.id = id\n",
    "        self.nombre = nombre\n",
    "        self.__edad = edad\n",
    "\n",
    "    # Getter\n",
    "    def obtener_edad(self):\n",
    "        return self.__edad\n",
    "    \n",
    "    # setter\n",
    "    def establecer_edad(self, edad):\n",
    "        self.__edad = edad\n",
    "        # sirve para modificar la edad desde la interfaz pública.\n",
    "\n",
    "\n",
    "usuario_1 = Usuario(1, \"Enrique\", 32)\n",
    "\n",
    "# Alamacenamos el valor de retorno\n",
    "edad_usuario = usuario_1.obtener_edad()\n",
    "print(edad_usuario)\n",
    "\n",
    "# Establecer una edad \n",
    "usuario_1.establecer_edad(25)\n",
    "print(usuario_1.obtener_edad())"
   ]
  },
  {
   "cell_type": "markdown",
   "metadata": {},
   "source": [
    "#### 10. **Polimorfismo**"
   ]
  },
  {
   "cell_type": "markdown",
   "metadata": {},
   "source": [
    " El polimorfis es la capacidad de un objeto de tomar diferentes formas. un ejemplo de polimorfismo es la funcion predifinda **len()**. si se le pasa una cadena de carácteres devolvera la longitud total de carácteres que tiene. En cambio, al usarla en una tupla o lista esta cuenta los elementos ,sin embargo al pasarle un numero de la lista en la funcion len() retornara el numero de carácteres del elemento señalado, en los diccionario contara el numero de key-values.\n"
   ]
  },
  {
   "cell_type": "code",
   "execution_count": 49,
   "metadata": {},
   "outputs": [
    {
     "name": "stdout",
     "output_type": "stream",
     "text": [
      "22\n",
      "4\n",
      "8\n",
      "2\n"
     ]
    }
   ],
   "source": [
    "libro = \"libro con mucho texto.\"\n",
    "colores = [\"Rojo\", \"Azul\", \"Amarillo\", \"Verde\"]\n",
    "usuario = {\n",
    "            \"nombre\" : \"Enrique\",\n",
    "            \"apellido\" : \"Fernández\"\n",
    "        }\n",
    "\n",
    "print(len(libro)) # Salida: 22\n",
    "print(len(colores)) # Salida: 4\n",
    "print(len(colores[2])) # Salida: 8 \n",
    "print(len(usuario)) # Salida: 2\n"
   ]
  },
  {
   "cell_type": "markdown",
   "metadata": {},
   "source": [
    "**Ejemplo:** *creando un función con polimorfismo.*"
   ]
  },
  {
   "cell_type": "code",
   "execution_count": 52,
   "metadata": {},
   "outputs": [
    {
     "name": "stdout",
     "output_type": "stream",
     "text": [
      "Soy un animal\n",
      "woof!\n",
      "Meow!\n"
     ]
    }
   ],
   "source": [
    "class Animal:\n",
    "    def hablar(self):\n",
    "        print(\"Soy un animal\")\n",
    "\n",
    "class Perro(Animal):\n",
    "    def hablar(self):\n",
    "        print(\"woof!\")\n",
    "\n",
    "class Gato(Animal):\n",
    "    def hablar(self):\n",
    "        print(\"Meow!\")\n",
    "\n",
    "animal = Animal()\n",
    "perro = Perro()\n",
    "gato = Gato()\n",
    "\n",
    "def dar_voz(objeto):\n",
    "    objeto.hablar()\n",
    "\n",
    "dar_voz(animal)\n",
    "dar_voz(perro)\n",
    "dar_voz(gato)"
   ]
  },
  {
   "cell_type": "markdown",
   "metadata": {},
   "source": [
    "#### 11. **sobrecarga y sobrescritura**"
   ]
  },
  {
   "cell_type": "markdown",
   "metadata": {},
   "source": [
    "* **La sobrecarga** de un método es la capacidad que tiene una clase de tener dos o más con el mismo nombre pero diferentes parámetros, es deir, la sobrecarga varía la funcionalidad.\n",
    "\n",
    "* **La sobreescritura** de métodos es la capacidad de una subclase de poder modificar el comportamiento de un método heredado de la superclase, se consigue definiendo un nuevo método con el mismo nombre, parámetro y retorno, es decir, la sobreescritura añade más contenido a una funcioinalidad existente.\n",
    "\n",
    "&emsp;&emsp; *Tanto como la sobrecarga y sobrescritura no existen como tal en Python a diferencia de otras lenguajes de programación, Python realmente solo tiene en cuenta la última definición del método o función.*"
   ]
  },
  {
   "cell_type": "code",
   "execution_count": 56,
   "metadata": {},
   "outputs": [
    {
     "ename": "TypeError",
     "evalue": "multiplicacion() takes 2 positional arguments but 4 were given",
     "output_type": "error",
     "traceback": [
      "\u001b[1;31m---------------------------------------------------------------------------\u001b[0m",
      "\u001b[1;31mTypeError\u001b[0m                                 Traceback (most recent call last)",
      "Cell \u001b[1;32mIn[56], line 9\u001b[0m\n\u001b[0;32m      6\u001b[0m \u001b[38;5;28;01mdef\u001b[39;00m \u001b[38;5;21mmultiplicacion\u001b[39m(a, b): \u001b[38;5;66;03m# remplaza la funcion anterior y deja de existir \u001b[39;00m\n\u001b[0;32m      7\u001b[0m     \u001b[38;5;28mprint\u001b[39m(a \u001b[38;5;241m*\u001b[39m b)\n\u001b[1;32m----> 9\u001b[0m \u001b[43mmultiplicacion\u001b[49m\u001b[43m(\u001b[49m\u001b[38;5;241;43m10\u001b[39;49m\u001b[43m,\u001b[49m\u001b[43m \u001b[49m\u001b[38;5;241;43m2\u001b[39;49m\u001b[43m,\u001b[49m\u001b[43m \u001b[49m\u001b[38;5;241;43m3\u001b[39;49m\u001b[43m,\u001b[49m\u001b[43m \u001b[49m\u001b[38;5;241;43m6\u001b[39;49m\u001b[43m)\u001b[49m \u001b[38;5;66;03m# TypeError: multiplicacion() takes 2 positional arguments but 4 were given\u001b[39;00m\n",
      "\u001b[1;31mTypeError\u001b[0m: multiplicacion() takes 2 positional arguments but 4 were given"
     ]
    }
   ],
   "source": [
    "# función con 4 parpametros\n",
    "def multiplicacion(a, b, c, d):\n",
    "    print(a * b *c * d)\n",
    "\n",
    "# función con 2 párametos{}\n",
    "def multiplicacion(a, b): # remplaza la funcion anterior y deja de existir \n",
    "    print(a * b)\n",
    "\n",
    "multiplicacion(10, 2, 3, 6) # TypeError: multiplicacion() takes 2 positional arguments but 4 were given"
   ]
  },
  {
   "cell_type": "markdown",
   "metadata": {},
   "source": [
    "#### 12. **Abstracción**"
   ]
  },
  {
   "cell_type": "markdown",
   "metadata": {},
   "source": [
    "&emsp; Es un concepto que se utiliza para ocultar los detalles complejos e irrelevantes para los usuario. Como analogía un auto necesitas saber una serie de funciones para conducirlo como girar, acelerar, cambiar marchar, frenar, etc. Sin embargo, para conducir no tiene por que saber como ocurren todas estas cosas, ni hasta la última pieza implicada en ello. Por un lado tenemos el encapsulamiento que se encarga en definir la forma en que se van a utilizar internamente los elementos, centrandose el cómo se implementa mediante la agrupacion de sus miembros relacionados, pero la abstracción lo que busca es facilitar el entendimiento de los conceptos. La abstracción se centra en que hace un objeto, proporciona una vista simplificada del funcionamiento que tiene habilidaddes.\n",
    "\n",
    "* **Clases Abastractas** <br>\n",
    "\n",
    "&emsp;&emsp; las clases y métodos abstractos relacionan la abstraccion en Python. Este tipo de clases estan diseñadas para ser utilizada por las subclases mediante la herencia. Cuando un mpetodo es declarado dentro una clase sin su implementacion (sin código) se le conoce como método abstracto, una clase abstracta no puede instanciada directamente, no se puede crear objetos  de esa clase pero si de su subclase, entonces las clases abstracta sirve para definir una estructura general para las subclases, todas las subclases que hereden de la clase abstracta deberan implementar lso métodos de esta, pero con sus propias caracteristicas.\n"
   ]
  },
  {
   "cell_type": "code",
   "execution_count": 62,
   "metadata": {},
   "outputs": [
    {
     "name": "stdout",
     "output_type": "stream",
     "text": [
      "Woof!\n",
      "Meow!\n"
     ]
    }
   ],
   "source": [
    "from abc import ABC, abstractmethod\n",
    "class Animal(ABC):\n",
    "    @abstractmethod\n",
    "    def hablar(self):\n",
    "        pass\n",
    "\n",
    "class Perro(Animal):\n",
    "    def hablar(self):\n",
    "        print(\"Woof!\")\n",
    "\n",
    "class Gato(Animal):\n",
    "    def hablar(self):\n",
    "        print(\"Meow!\")\n",
    "\n",
    "perro = Perro()\n",
    "perro.hablar()\n",
    "\n",
    "gato = Gato()\n",
    "gato.hablar()"
   ]
  },
  {
   "cell_type": "markdown",
   "metadata": {},
   "source": [
    "la clase **Animal** es la clase abstracta en el código, "
   ]
  }
 ],
 "metadata": {
  "kernelspec": {
   "display_name": ".venv",
   "language": "python",
   "name": "python3"
  },
  "language_info": {
   "codemirror_mode": {
    "name": "ipython",
    "version": 3
   },
   "file_extension": ".py",
   "mimetype": "text/x-python",
   "name": "python",
   "nbconvert_exporter": "python",
   "pygments_lexer": "ipython3",
   "version": "3.13.1"
  }
 },
 "nbformat": 4,
 "nbformat_minor": 2
}
