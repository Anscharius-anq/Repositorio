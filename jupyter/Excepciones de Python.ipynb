{
 "cells": [
  {
   "cell_type": "markdown",
   "metadata": {},
   "source": [
    "#### **Manejo de excepciones**"
   ]
  },
  {
   "cell_type": "markdown",
   "metadata": {},
   "source": [
    "*aqui se verán los errores comunes producidos al escribir en Python.*"
   ]
  },
  {
   "cell_type": "markdown",
   "metadata": {},
   "source": [
    " ##### **Name Error**"
   ]
  },
  {
   "cell_type": "markdown",
   "metadata": {},
   "source": [
    "&emsp;&emsp; es producida cuando se intenta una variable o una función que no ha sido definida, basta con llamar a una variable inexistente.\n",
    "```python\n",
    "        print(x) # NameError: name 'x' is not defined\n",
    "```"
   ]
  },
  {
   "cell_type": "markdown",
   "metadata": {},
   "source": [
    " ##### **Value Error**"
   ]
  },
  {
   "cell_type": "markdown",
   "metadata": {},
   "source": [
    "&emsp;&emsp; Es producida cuando se pasa un valor incorrecto a una función o a un método.\n",
    "```python\n",
    "        print(int(\"¿Se puede pasar texto a int?\")) # ValueError: invalid literal for int() with base 10: '¿Se puede pasar texto a int?'\n",
    "```"
   ]
  },
  {
   "cell_type": "markdown",
   "metadata": {},
   "source": [
    "##### **Index Error**"
   ]
  },
  {
   "cell_type": "markdown",
   "metadata": {},
   "source": [
    "&emsp;&emsp; se produce cuando se intenta acceder un indice fuera de rango de una lista, tupla o diccionario.\n",
    "```python\n",
    "        mi_lista = [1, 2, 3] # lista con tres posiciones.\n",
    "\n",
    "        print(mi_lista[10]) # IndexError: list index out of range\n",
    "```"
   ]
  },
  {
   "cell_type": "markdown",
   "metadata": {},
   "source": [
    " ##### **Type Error**"
   ]
  },
  {
   "cell_type": "markdown",
   "metadata": {},
   "source": [
    "&emsp;&emsp; Error producido cuando se realiza operaciones con objetos de distintos tipos incompatibles.\n",
    "```python\n",
    "        print(\"texto\" + 10) # TypeError: can only concatenate str (not \"int\") to str\n",
    "```"
   ]
  },
  {
   "cell_type": "markdown",
   "metadata": {},
   "source": [
    " ##### **KeyError**"
   ]
  },
  {
   "cell_type": "markdown",
   "metadata": {},
   "source": [
    "&emsp;&emsp; Se produce cuando se intenta acceder a una clave que no existe en un diccionario.\n",
    "```python\n",
    "        diccionario = {\"a\" : 1, \"b\" : 2}\n",
    "        print(diccionario[\"c\"]) # KeyError: 'c'\n",
    "```"
   ]
  },
  {
   "cell_type": "markdown",
   "metadata": {},
   "source": [
    "##### **SyntaxError**"
   ]
  },
  {
   "cell_type": "markdown",
   "metadata": {},
   "source": [
    "Esta exccepción es producida cuando el código contiene errores de sintaxis que impiden que el interprete lo ejecuten.\n",
    "```python\n",
    "        if variable # SyntaxError: expected ':'\n",
    "```"
   ]
  },
  {
   "cell_type": "markdown",
   "metadata": {},
   "source": [
    "##### **ZeroDivisionError**"
   ]
  },
  {
   "cell_type": "markdown",
   "metadata": {},
   "source": [
    "```python\n",
    "        print( 10 / 0 ) # ZeroDivisionError: division by zero\n",
    "```"
   ]
  },
  {
   "cell_type": "markdown",
   "metadata": {},
   "source": [
    "##### **OsError**"
   ]
  },
  {
   "cell_type": "markdown",
   "metadata": {},
   "source": [
    "&emsp;&emsp; este es producido por un error al acceder a un archivo o una carpeta en el sistema operativo.\n",
    "```python\n",
    "        with open(\"archivo*cualquiera\", \"r\"):# OSError: [Errno 22] Invalid argument: 'archivo*cualquiera'\n",
    "            pass\n",
    "```"
   ]
  }
 ],
 "metadata": {
  "kernelspec": {
   "display_name": "Python 3",
   "language": "python",
   "name": "python3"
  },
  "language_info": {
   "codemirror_mode": {
    "name": "ipython",
    "version": 3
   },
   "file_extension": ".py",
   "mimetype": "text/x-python",
   "name": "python",
   "nbconvert_exporter": "python",
   "pygments_lexer": "ipython3",
   "version": "3.13.1"
  }
 },
 "nbformat": 4,
 "nbformat_minor": 2
}
