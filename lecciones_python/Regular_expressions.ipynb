{
 "cells": [
  {
   "cell_type": "markdown",
   "metadata": {},
   "source": [
    "# Regular Expressions\n",
    "---"
   ]
  },
  {
   "cell_type": "markdown",
   "metadata": {},
   "source": [
    "## Match"
   ]
  },
  {
   "cell_type": "code",
   "execution_count": null,
   "metadata": {},
   "outputs": [
    {
     "name": "stdout",
     "output_type": "stream",
     "text": [
      "JavaScript is the most beautiful language that a human being has ever created.\n",
      "I recommend JavaScript for a first programming language\n",
      "JavaScript is the most beautiful language that a human being has ever created.\n",
      "I recommend JavaScript for a first programming language\n"
     ]
    },
    {
     "name": "stderr",
     "output_type": "stream",
     "text": [
      "C:\\Users\\oscar\\AppData\\Local\\Temp\\ipykernel_8484\\3253064344.py:6: DeprecationWarning: 'count' is passed as positional argument\n",
      "  match_replaced = re.sub('Python|python', 'JavaScript', txt, re.I)\n",
      "C:\\Users\\oscar\\AppData\\Local\\Temp\\ipykernel_8484\\3253064344.py:9: DeprecationWarning: 'count' is passed as positional argument\n",
      "  match_replaced = re.sub('[Pp]ython', 'JavaScript', txt, re.I)\n"
     ]
    }
   ],
   "source": [
    "import re\n",
    "\n",
    "txt = '''Python is the most beautiful language that a human being has ever created.\n",
    "I recommend python for a first programming language'''\n",
    "\n",
    "match_replaced = re.sub('Python|python', 'JavaScript', txt, re.I)\n",
    "print(match_replaced)  \n",
    "# OR\n",
    "match_replaced = re.sub('[Pp]ython', 'JavaScript', txt, re.I)\n",
    "print(match_replaced) "
   ]
  }
 ],
 "metadata": {
  "kernelspec": {
   "display_name": "venv",
   "language": "python",
   "name": "python3"
  },
  "language_info": {
   "codemirror_mode": {
    "name": "ipython",
    "version": 3
   },
   "file_extension": ".py",
   "mimetype": "text/x-python",
   "name": "python",
   "nbconvert_exporter": "python",
   "pygments_lexer": "ipython3",
   "version": "3.13.1"
  }
 },
 "nbformat": 4,
 "nbformat_minor": 2
}
